{
  "nbformat": 4,
  "nbformat_minor": 0,
  "metadata": {
    "colab": {
      "name": "syllable-rnn-generation-2020-en.ipynb",
      "provenance": [],
      "collapsed_sections": [],
      "toc_visible": true
    },
    "kernelspec": {
      "display_name": "Python 3",
      "language": "python",
      "name": "python3"
    },
    "accelerator": "GPU"
  },
  "cells": [
    {
      "cell_type": "markdown",
      "metadata": {
        "id": "iVsYe7S5XM5G"
      },
      "source": [
        "![](https://i.imgur.com/eBRPvWB.png)\n",
        "\n",
        "# Generowanie poezji za pomocą RNN i PyTorch sylabami\n",
        "\n",
        "[W tutorialu na rozgrzewkę](https://github.com/spro/practical-pytorch/blob/master/char-rnn-classification/char-rnn-classification.ipynb) użyliśmy RNN, aby sklasyfikować nazwiska znak po znaku. Tym razem wygenerujemy tekst sylaba po sylabie.\n",
        "```\n",
        "Litwo! Ojczyzno moja! ty jesteś klucz wyziemu, \n",
        "To opugo cząciły tak lasu czeleta. \n",
        "Choć nie będzie mowę świeci się za tém, \n",
        "A Dozgon++ na Litwę przerzucił w okolicy, \n",
        "Dosyć się opicie przyciągnąć w pałacu; \n",
        "\n",
        "Tamdzini nawet mimo osobnych ogórki. \n",
        "Choć zwyciętunia, mimo pukle wyślą, \n",
        "Odemknął, wbiegł wyszedł, pewnie miłośnik łowił. \n",
        "Bo przekorza, i skrobiąc nabój do Warszawy. \n",
        "Dość co oddało plecie tak fawował, \n",
        "A tam się cukier wytaczać na nich wybująca. \n",
        "\n",
        "```\n",
        "\n",
        "Ok, możesz zadać sobie pytanie, czy ten tutorial jest rzeczywiście praktyczny? Czemu nie? Modele generatywne tego typu stanowią fundament tłumaczenia maszynowego, opisywania obrazów, generowania odpowiedzi na pytania i wielu innych zastowań.\n",
        "\n",
        "Zobacz [Sequence to Sequence Translation tutorial](https://github.com/spro/practical-pytorch/blob/master/seq2seq-translation/seq2seq-translation.ipynb) żeby nauczyć się więcej w tym temacie."
      ]
    },
    {
      "cell_type": "markdown",
      "metadata": {
        "id": "WamMk47AXM5I"
      },
      "source": [
        "## Polecana lektura\n",
        "\n",
        "Zakładam, że jest już zainstalowany PyTorch, znasz Python'a, oraz znasz pojęcie Tensor'ów:\n",
        "\n",
        "* http://pytorch.org/ - instalacja PyTorch\n",
        "* [Deep Learning with PyTorch: A 60-minute Blitz](http://pytorch.org/tutorials/beginner/deep_learning_60min_blitz.html) - Podstawy PyTorch\n",
        "* [jcjohnson's PyTorch examples](https://github.com/jcjohnson/pytorch-examples) przykłady wykorzystania PyTorch\n",
        "* [Introduction to PyTorch for former Torchies](https://github.com/pytorch/tutorials/blob/master/Introduction%20to%20PyTorch%20for%20former%20Torchies.ipynb) jeżeli znasz Lua Torch\n",
        "\n",
        "Trochę wiedzy o RNN:\n",
        "\n",
        "* [The Unreasonable Effectiveness of Recurrent Neural Networks](http://karpathy.github.io/2015/05/21/rnn-effectiveness/) przykłady z życia wzięte\n",
        "* [Understanding LSTM Networks](http://colah.github.io/posts/2015-08-Understanding-LSTMs/) RNN i LSTM w pigułce\n",
        "\n",
        "Zobacz także podobne tutoriale z serii:\n",
        "\n",
        "* [Classifying Names with a Character-Level RNN](https://github.com/spro/practical-pytorch/blob/master/char-rnn-classification/char-rnn-classification.ipynb) używa RNN do klasyfikacji\n",
        "* [Generating Names with a Conditional Character-Level RNN](https://github.com/spro/practical-pytorch/blob/master/conditional-char-rnn/conditional-char-rnn.ipynb) opierając się na tym modelu, dodaje kategorię jako dane wejściowe"
      ]
    },
    {
      "cell_type": "markdown",
      "metadata": {
        "id": "E7PwzxO-hBJe"
      },
      "source": [
        "## Setup"
      ]
    },
    {
      "cell_type": "markdown",
      "metadata": {
        "id": "MVR_A2s-jjiD"
      },
      "source": [
        "## Instalacja biblioteki PyDrive i wrappera"
      ]
    },
    {
      "cell_type": "code",
      "metadata": {
        "id": "WShJMdkejkV_"
      },
      "source": [
        "# This only needs to be done once per notebook.\n",
        "!pip install -U -q PyDrive\n",
        "\n",
        "from pydrive.auth import GoogleAuth\n",
        "from pydrive.drive import GoogleDrive\n",
        "from google.colab import auth\n",
        "from oauth2client.client import GoogleCredentials\n",
        "\n",
        "# Authenticate and create the PyDrive client.\n",
        "# This only needs to be done once per notebook.\n",
        "auth.authenticate_user()\n",
        "gauth = GoogleAuth()\n",
        "gauth.credentials = GoogleCredentials.get_application_default()\n",
        "drive = GoogleDrive(gauth)\n",
        "\n",
        "from pathlib import Path\n",
        "import os\n",
        "\n",
        "def download_and_save(file_name, file_id):\n",
        "  downloaded = drive.CreateFile({'id': file_id})\n",
        "  # fetch file\n",
        "  downloaded.FetchContent()\n",
        "  # write file\n",
        "  with open(file_name,'wb') as f:\n",
        "       f.write(downloaded.content.read())\n",
        "      \n",
        "  print(f'Saved {file_name}')\n",
        "  \n",
        "FILE_NAME, FILE_ID = ['file_name', 'file_id']"
      ],
      "execution_count": null,
      "outputs": []
    },
    {
      "cell_type": "markdown",
      "metadata": {
        "id": "mzZIXB-0zkmK"
      },
      "source": [
        "## Pobranie i instalacja stemmera"
      ]
    },
    {
      "cell_type": "code",
      "metadata": {
        "id": "qEmB620tjBKi",
        "outputId": "33df70e4-bf80-4dc5-cb84-387c13dad5c7",
        "colab": {
          "base_uri": "https://localhost:8080/"
        }
      },
      "source": [
        "!dpkg --add-architecture i386\n",
        "!apt-get -qq update\n",
        "!apt-get -qq install libc6:i386 libncurses5:i386 libstdc++6:i386"
      ],
      "execution_count": null,
      "outputs": [
        {
          "output_type": "stream",
          "text": [
            "Preconfiguring packages ...\n",
            "Selecting previously unselected package gcc-8-base:i386.\n",
            "(Reading database ... 144786 files and directories currently installed.)\n",
            "Preparing to unpack .../0-gcc-8-base_8.4.0-1ubuntu1~18.04_i386.deb ...\n",
            "Unpacking gcc-8-base:i386 (8.4.0-1ubuntu1~18.04) ...\n",
            "Selecting previously unselected package libgcc1:i386.\n",
            "Preparing to unpack .../1-libgcc1_1%3a8.4.0-1ubuntu1~18.04_i386.deb ...\n",
            "Unpacking libgcc1:i386 (1:8.4.0-1ubuntu1~18.04) ...\n",
            "Selecting previously unselected package libc6:i386.\n",
            "Preparing to unpack .../2-libc6_2.27-3ubuntu1.3_i386.deb ...\n",
            "Unpacking libc6:i386 (2.27-3ubuntu1.3) ...\n",
            "Replacing files in old package libc6-i386 (2.27-3ubuntu1.3) ...\n",
            "Selecting previously unselected package libtinfo5:i386.\n",
            "Preparing to unpack .../3-libtinfo5_6.1-1ubuntu1.18.04_i386.deb ...\n",
            "Unpacking libtinfo5:i386 (6.1-1ubuntu1.18.04) ...\n",
            "Selecting previously unselected package libncurses5:i386.\n",
            "Preparing to unpack .../4-libncurses5_6.1-1ubuntu1.18.04_i386.deb ...\n",
            "Unpacking libncurses5:i386 (6.1-1ubuntu1.18.04) ...\n",
            "Selecting previously unselected package libstdc++6:i386.\n",
            "Preparing to unpack .../5-libstdc++6_8.4.0-1ubuntu1~18.04_i386.deb ...\n",
            "Unpacking libstdc++6:i386 (8.4.0-1ubuntu1~18.04) ...\n",
            "Selecting previously unselected package libgpm2:i386.\n",
            "Preparing to unpack .../6-libgpm2_1.20.7-5_i386.deb ...\n",
            "Unpacking libgpm2:i386 (1.20.7-5) ...\n",
            "Setting up gcc-8-base:i386 (8.4.0-1ubuntu1~18.04) ...\n",
            "Setting up libc6:i386 (2.27-3ubuntu1.3) ...\n",
            "Setting up libgcc1:i386 (1:8.4.0-1ubuntu1~18.04) ...\n",
            "Setting up libtinfo5:i386 (6.1-1ubuntu1.18.04) ...\n",
            "Setting up libgpm2:i386 (1.20.7-5) ...\n",
            "Setting up libstdc++6:i386 (8.4.0-1ubuntu1~18.04) ...\n",
            "Setting up libncurses5:i386 (6.1-1ubuntu1.18.04) ...\n",
            "Processing triggers for libc-bin (2.27-3ubuntu1.2) ...\n",
            "/sbin/ldconfig.real: /usr/local/lib/python3.6/dist-packages/ideep4py/lib/libmkldnn.so.0 is not a symbolic link\n",
            "\n"
          ],
          "name": "stdout"
        }
      ]
    },
    {
      "cell_type": "code",
      "metadata": {
        "id": "hlv4wsejjSOe",
        "outputId": "19c33524-7283-447b-ab3d-5d8613718cb6",
        "colab": {
          "base_uri": "https://localhost:8080/"
        }
      },
      "source": [
        "# stemmer-2.0.3.tgz, https://drive.google.com/file/d/1PxS-e6tzXa7u4N9A2r9XWLUpvSKqJIrZ\n",
        "stemmer = {FILE_NAME: 'stemmer-2.0.3.tgz', FILE_ID: '1PxS-e6tzXa7u4N9A2r9XWLUpvSKqJIrZ'}\n",
        "stemmer_path = Path('./') / stemmer[FILE_NAME]\n",
        "download_and_save(stemmer_path, stemmer[FILE_ID])"
      ],
      "execution_count": null,
      "outputs": [
        {
          "output_type": "stream",
          "text": [
            "Saved stemmer-2.0.3.tgz\n"
          ],
          "name": "stdout"
        }
      ]
    },
    {
      "cell_type": "code",
      "metadata": {
        "id": "oitYYaiVjSRT"
      },
      "source": [
        "!tar xzf $stemmer_path"
      ],
      "execution_count": null,
      "outputs": []
    },
    {
      "cell_type": "code",
      "metadata": {
        "id": "iGEJUx4GkFUU",
        "outputId": "ca3c748c-d89b-4659-d86d-8f0f3eb35aab",
        "colab": {
          "base_uri": "https://localhost:8080/"
        }
      },
      "source": [
        "ls -lah bin"
      ],
      "execution_count": null,
      "outputs": [
        {
          "output_type": "stream",
          "text": [
            "total 8.2M\n",
            "drwxr-xr-x 2  501 staff 4.0K Apr 30  2018 \u001b[0m\u001b[01;34m.\u001b[0m/\n",
            "drwxr-xr-x 1 root root  4.0K Nov 14 11:42 \u001b[01;34m..\u001b[0m/\n",
            "-rw-r--r-- 1  501 staff 1.2K Apr 19  2018 changelog.txt\n",
            "-rwxr-xr-x 1  501 staff  629 Jan  2  2018 \u001b[01;32mdestem.sh\u001b[0m*\n",
            "-rw-r--r-- 1  501 staff 858K Nov 22  2017 stemmer2.dic\n",
            "-rwxrwxr-x 1  501 staff 3.7M Apr 19  2018 \u001b[01;32mstemmer.linux\u001b[0m*\n",
            "-rwxr-xr-x 1  501 staff 3.6M Apr 30  2018 \u001b[01;32mstemmer.macos\u001b[0m*\n"
          ],
          "name": "stdout"
        }
      ]
    },
    {
      "cell_type": "markdown",
      "metadata": {
        "id": "6a-q1f8LFI5y"
      },
      "source": [
        "# Pobranie danych"
      ]
    },
    {
      "cell_type": "code",
      "metadata": {
        "id": "p_CBUv1zksmM",
        "outputId": "cf8e83fb-8874-4ce6-8da2-6e22ac42da91",
        "colab": {
          "base_uri": "https://localhost:8080/"
        }
      },
      "source": [
        "from pathlib import Path\n",
        "dataset_path =   Path('data/rnn_generator'); dataset_path\n",
        "!mkdir -p $dataset_path\n",
        "!ls -la $dataset_path/\n",
        "tmp_path = dataset_path / 'tmp/'\n",
        "!mkdir -p $tmp_path"
      ],
      "execution_count": null,
      "outputs": [
        {
          "output_type": "stream",
          "text": [
            "total 8\n",
            "drwxr-xr-x 2 root root 4096 Nov 14 11:45 .\n",
            "drwxr-xr-x 3 root root 4096 Nov 14 11:45 ..\n"
          ],
          "name": "stdout"
        }
      ]
    },
    {
      "cell_type": "markdown",
      "metadata": {
        "id": "4q8kPT9ql7pa"
      },
      "source": [
        "## Pobranie datasetu Pan Tadeusz"
      ]
    },
    {
      "cell_type": "code",
      "metadata": {
        "id": "OUn5JvPtl9zN",
        "outputId": "60527078-0419-4ec1-9798-7f3ab848ee87",
        "colab": {
          "base_uri": "https://localhost:8080/"
        }
      },
      "source": [
        "# pan_tadeusz, https://drive.google.com/open?id=1l8KGrqUsrGOlXVp7Frgyku8w75X_WA8h\n",
        "pan_tadeusz = {FILE_NAME: 'pan_tadeusz.txt', FILE_ID: '1l8KGrqUsrGOlXVp7Frgyku8w75X_WA8h'}\n",
        "\n",
        "download_and_save(dataset_path / pan_tadeusz[FILE_NAME], pan_tadeusz[FILE_ID])"
      ],
      "execution_count": null,
      "outputs": [
        {
          "output_type": "stream",
          "text": [
            "Saved data/rnn_generator/pan_tadeusz.txt\n"
          ],
          "name": "stdout"
        }
      ]
    },
    {
      "cell_type": "code",
      "metadata": {
        "id": "rMHb4Kjyl_3m",
        "outputId": "67939356-3097-439e-eb3d-d3c07248b27c",
        "colab": {
          "base_uri": "https://localhost:8080/"
        }
      },
      "source": [
        "ls -la $dataset_path/"
      ],
      "execution_count": null,
      "outputs": [
        {
          "output_type": "stream",
          "text": [
            "total 232\n",
            "drwxr-xr-x 3 root root   4096 Nov 14 11:50 \u001b[0m\u001b[01;34m.\u001b[0m/\n",
            "drwxr-xr-x 3 root root   4096 Nov 14 11:45 \u001b[01;34m..\u001b[0m/\n",
            "-rw-r--r-- 1 root root 223706 Nov 14 11:50 pan_tadeusz.txt\n",
            "drwxr-xr-x 2 root root   4096 Nov 14 11:49 \u001b[01;34mtmp\u001b[0m/\n"
          ],
          "name": "stdout"
        }
      ]
    },
    {
      "cell_type": "markdown",
      "metadata": {
        "id": "zoKLKM4tqfcI"
      },
      "source": [
        "## Opcjonalne pobranie innych datasetów"
      ]
    },
    {
      "cell_type": "code",
      "metadata": {
        "id": "D0FCIdSvmIuE",
        "outputId": "a0683604-2525-4501-b48d-04ebad079430",
        "colab": {
          "base_uri": "https://localhost:8080/"
        }
      },
      "source": [
        "# witkacy_szewcy, https://drive.google.com/open?id=1NOWTocYwv93GibItaNBxTJobjTukQmRP\n",
        "witkacy = {FILE_NAME: 'witkacy_szewcy.txt', FILE_ID: '1NOWTocYwv93GibItaNBxTJobjTukQmRP'}\n",
        "\n",
        "download_and_save(dataset_path / witkacy[FILE_NAME], witkacy[FILE_ID])"
      ],
      "execution_count": null,
      "outputs": [
        {
          "output_type": "stream",
          "text": [
            "Saved data/rnn_generator/witkacy_szewcy.txt\n"
          ],
          "name": "stdout"
        }
      ]
    },
    {
      "cell_type": "code",
      "metadata": {
        "id": "6KcOcAXTmPAl",
        "outputId": "6f9e02bd-bed3-4296-dfd7-52e7892f7387",
        "colab": {
          "base_uri": "https://localhost:8080/"
        }
      },
      "source": [
        "# mickiewicz, https://drive.google.com/open?id=1otbOB7GjKEVPjaPShaaTnYQnv-whwNWP\n",
        "mickiewicz = {FILE_NAME: 'mickiewicz.txt', FILE_ID: '1otbOB7GjKEVPjaPShaaTnYQnv-whwNWP'}\n",
        "\n",
        "download_and_save(dataset_path / mickiewicz[FILE_NAME], mickiewicz[FILE_ID])"
      ],
      "execution_count": null,
      "outputs": [
        {
          "output_type": "stream",
          "text": [
            "Saved data/rnn_generator/mickiewicz.txt\n"
          ],
          "name": "stdout"
        }
      ]
    },
    {
      "cell_type": "code",
      "metadata": {
        "id": "5y3kejFXmRku",
        "outputId": "82f998fd-d6fe-4548-dfd4-ec3f4bfe0b51",
        "colab": {
          "base_uri": "https://localhost:8080/"
        }
      },
      "source": [
        "!ls -la $dataset_path/"
      ],
      "execution_count": null,
      "outputs": [
        {
          "output_type": "stream",
          "text": [
            "total 1088\n",
            "drwxr-xr-x 3 root root   4096 Nov 14 11:52 .\n",
            "drwxr-xr-x 3 root root   4096 Nov 14 11:45 ..\n",
            "-rw-r--r-- 1 root root 725495 Nov 14 11:52 mickiewicz.txt\n",
            "-rw-r--r-- 1 root root 223706 Nov 14 11:50 pan_tadeusz.txt\n",
            "drwxr-xr-x 2 root root   4096 Nov 14 11:49 tmp\n",
            "-rw-r--r-- 1 root root 145132 Nov 14 11:51 witkacy_szewcy.txt\n"
          ],
          "name": "stdout"
        }
      ]
    },
    {
      "cell_type": "markdown",
      "metadata": {
        "id": "tnHlimami7b1"
      },
      "source": [
        "## Załadowanie bibliotek"
      ]
    },
    {
      "cell_type": "markdown",
      "metadata": {
        "id": "1Kk5FdvHFDeu"
      },
      "source": [
        "## Instalacja biblioteki PyDrive i wrappera"
      ]
    },
    {
      "cell_type": "code",
      "metadata": {
        "id": "WMhhgYDig_7G"
      },
      "source": [
        "from pathlib import Path\n",
        "import platform\n",
        "import string\n",
        "import random\n",
        "import re\n",
        "from IPython.core.display import display, HTML\n",
        "import os\n",
        "import psutil\n",
        "import pickle\n",
        "import warnings\n",
        "import torch\n",
        "import torch.nn as nn\n",
        "from torch.autograd import Variable\n",
        "import time, math\n",
        "import numpy as np\n",
        "from tqdm import tqdm\n",
        "\n",
        "import matplotlib.pyplot as plt\n",
        "import matplotlib.ticker as ticker\n",
        "%matplotlib inline\n",
        "\n",
        "import matplotlib as mpl\n",
        "mpl.style.use('default')\n",
        "mpl.style.use('bmh')\n"
      ],
      "execution_count": null,
      "outputs": []
    },
    {
      "cell_type": "markdown",
      "metadata": {
        "id": "g8KbaMvrXM5J"
      },
      "source": [
        "## Preprocessing korpusu"
      ]
    },
    {
      "cell_type": "code",
      "metadata": {
        "id": "80ZjgATAXsVn"
      },
      "source": [
        "dataset_path = Path('data/rnn_generator'); dataset_path\n",
        "tmp_path = dataset_path / 'tmp/'\n",
        "!mkdir -p $tmp_path"
      ],
      "execution_count": null,
      "outputs": []
    },
    {
      "cell_type": "code",
      "metadata": {
        "id": "CPFXCZguyyXA",
        "outputId": "6a7c74c3-3a29-4189-f73d-0975c83784f9",
        "colab": {
          "base_uri": "https://localhost:8080/"
        }
      },
      "source": [
        "ls -lah $dataset_path/"
      ],
      "execution_count": null,
      "outputs": [
        {
          "output_type": "stream",
          "text": [
            "total 1.1M\n",
            "drwxr-xr-x 3 root root 4.0K Nov 14 11:52 \u001b[0m\u001b[01;34m.\u001b[0m/\n",
            "drwxr-xr-x 3 root root 4.0K Nov 14 11:45 \u001b[01;34m..\u001b[0m/\n",
            "-rw-r--r-- 1 root root 709K Nov 14 11:52 mickiewicz.txt\n",
            "-rw-r--r-- 1 root root 219K Nov 14 11:50 pan_tadeusz.txt\n",
            "drwxr-xr-x 2 root root 4.0K Nov 14 11:53 \u001b[01;34mtmp\u001b[0m/\n",
            "-rw-r--r-- 1 root root 142K Nov 14 11:51 witkacy_szewcy.txt\n"
          ],
          "name": "stdout"
        }
      ]
    },
    {
      "cell_type": "code",
      "metadata": {
        "id": "9eTRgNsMyyXD"
      },
      "source": [
        "fn_corpus_char = dataset_path/'pan_tadeusz.txt'\n",
        "fn_corpus_caps = dataset_path/'pan_tadeusz.caps1.txt'\n",
        "fn_corpus_syl = dataset_path/'pan_tadeusz.syl1.txt'"
      ],
      "execution_count": null,
      "outputs": []
    },
    {
      "cell_type": "markdown",
      "metadata": {
        "id": "9wuZu6mE057C"
      },
      "source": [
        "Plik wejściowy (korpus) to duży plik tekstowy. "
      ]
    },
    {
      "cell_type": "code",
      "metadata": {
        "id": "aaV5Ly3R_tzj",
        "outputId": "9682c508-8fa6-4871-a707-62f3a70a8866",
        "colab": {
          "base_uri": "https://localhost:8080/"
        }
      },
      "source": [
        "!head -n 21 $fn_corpus_char"
      ],
      "execution_count": null,
      "outputs": [
        {
          "output_type": "stream",
          "text": [
            "﻿KSIĘGA PIÉRWSZA.\r\n",
            "\r\n",
            "\r\n",
            "\r\n",
            "\r\n",
            "GOSPODARSTWO.\r\n",
            "\r\n",
            "\r\n",
            "TREŚĆ.\r\n",
            "\r\n",
            "    Powrot panicza -- Spotkanie się piérwsze w pokoiku, drugie u\r\n",
            "    stołu -- Ważna Sędziego nauka o grzeczności -- Podkomorzego uwagi\r\n",
            "    polityczne nad modami -- Początek sporu o Kusego i Sokoła -- Żale\r\n",
            "    Wojskiego -- Ostatni Woźny Trybunału -- Rzut oka na ówczesny stan\r\n",
            "    polityczny Litwy i Europy.\r\n",
            "\r\n",
            "\r\n",
            "  Litwo! Ojczyzno moja! ty jesteś jak zdrowie;\r\n",
            "Ile cię trzeba cenić, ten tylko się dowie\r\n",
            "Kto cię stracił. Dziś piękność twą w całéj ozdobie\r\n",
            "Widzę i opisuję, bo tęsknię po tobie.\r\n"
          ],
          "name": "stdout"
        }
      ]
    },
    {
      "cell_type": "markdown",
      "metadata": {
        "id": "IKPynzs-yyW-"
      },
      "source": [
        "### Tokenizacja wielkich liter"
      ]
    },
    {
      "cell_type": "markdown",
      "metadata": {
        "id": "enPpQXzj_oj6"
      },
      "source": [
        "Zamieniamy duże litery na małe dodając tokeny `_up_` (dla wyrazów pisanych wielkimi literami) lub `_cap_` (dla wyrazów pisanych z wielkiej litery)."
      ]
    },
    {
      "cell_type": "code",
      "metadata": {
        "id": "UJtiF_yZiA-z"
      },
      "source": [
        "def do_caps(ss):\n",
        "  TOK_UP,TOK_CAP = ' _up_ ', ' _cap_ '\n",
        "  res = []\n",
        "  re_word = re.compile('\\w')\n",
        "  for s in re.findall(r'\\w+|\\W+', ss):\n",
        "      res += ([TOK_UP,s.lower()] if (s.isupper() and (len(s)>2))\n",
        "              else [TOK_CAP,s.lower()] if s.istitle()\n",
        "              else [s.lower()])\n",
        "  return ''.join(res)"
      ],
      "execution_count": null,
      "outputs": []
    },
    {
      "cell_type": "code",
      "metadata": {
        "id": "b5cAVEtNiC9X",
        "outputId": "f788ba2b-60dc-4468-b02a-7dacd9cf0050",
        "colab": {
          "base_uri": "https://localhost:8080/"
        }
      },
      "source": [
        "corpus_tmp = fn_corpus_char.open('r').read()\n",
        "corpus_tmp = do_caps(corpus_tmp)\n",
        "fn_corpus_caps.open('w').write(corpus_tmp)"
      ],
      "execution_count": null,
      "outputs": [
        {
          "output_type": "execute_result",
          "data": {
            "text/plain": [
              "246668"
            ]
          },
          "metadata": {
            "tags": []
          },
          "execution_count": 31
        }
      ]
    },
    {
      "cell_type": "code",
      "metadata": {
        "id": "JJlxNo8q-quJ",
        "outputId": "ff278190-13d3-41ad-d66a-2fdf226bf7c6",
        "colab": {
          "base_uri": "https://localhost:8080/"
        }
      },
      "source": [
        "!head -n 21 $fn_corpus_caps"
      ],
      "execution_count": null,
      "outputs": [
        {
          "output_type": "stream",
          "text": [
            "﻿ _up_ księga  _up_ piérwsza.\n",
            "\n",
            "\n",
            "\n",
            "\n",
            " _up_ gospodarstwo.\n",
            "\n",
            "\n",
            " _up_ treść.\n",
            "\n",
            "     _cap_ powrot panicza --  _cap_ spotkanie się piérwsze w pokoiku, drugie u\n",
            "    stołu --  _cap_ ważna  _cap_ sędziego nauka o grzeczności --  _cap_ podkomorzego uwagi\n",
            "    polityczne nad modami --  _cap_ początek sporu o  _cap_ kusego i  _cap_ sokoła --  _cap_ żale\n",
            "     _cap_ wojskiego --  _cap_ ostatni  _cap_ woźny  _cap_ trybunału --  _cap_ rzut oka na ówczesny stan\n",
            "    polityczny  _cap_ litwy i  _cap_ europy.\n",
            "\n",
            "\n",
            "   _cap_ litwo!  _cap_ ojczyzno moja! ty jesteś jak zdrowie;\n",
            " _cap_ ile cię trzeba cenić, ten tylko się dowie\n",
            " _cap_ kto cię stracił.  _cap_ dziś piękność twą w całéj ozdobie\n",
            " _cap_ widzę i opisuję, bo tęsknię po tobie.\n"
          ],
          "name": "stdout"
        }
      ]
    },
    {
      "cell_type": "markdown",
      "metadata": {
        "id": "lbMBLa_nxp2b"
      },
      "source": [
        "### Podział korpusu na sylaby"
      ]
    },
    {
      "cell_type": "markdown",
      "metadata": {
        "id": "OONrdDyb-mS6"
      },
      "source": [
        "Dzielimy korpus na sylaby programem `stemmer`."
      ]
    },
    {
      "cell_type": "code",
      "metadata": {
        "id": "efaGn-TLyyXG"
      },
      "source": [
        "platform_suffixes = {'Linux': 'linux', 'Darwin': 'macos'}\n",
        "platform_suffix = platform_suffixes[platform.system()]\n",
        "stemmer_bin = f'LD_PRELOAD=\"\" bin/stemmer.{platform_suffix}'"
      ],
      "execution_count": null,
      "outputs": []
    },
    {
      "cell_type": "code",
      "metadata": {
        "id": "w3qYJ20EyyXI"
      },
      "source": [
        "# !$stemmer_bin -h"
      ],
      "execution_count": null,
      "outputs": []
    },
    {
      "cell_type": "code",
      "metadata": {
        "id": "xGbQYAUYyyXK",
        "outputId": "a879591e-8cd4-43c9-f2fc-65b04d80fe46",
        "colab": {
          "base_uri": "https://localhost:8080/"
        }
      },
      "source": [
        "!$stemmer_bin -s 7683 -v -d bin/stemmer2.dic -i $fn_corpus_caps -o $fn_corpus_syl"
      ],
      "execution_count": null,
      "outputs": [
        {
          "output_type": "stream",
          "text": [
            "Stemmer 2.0.3 2018-04-19 (Linux i386)\n",
            "For Korrida database, spellchecker and hyphenator copyright (C) 1993-2018 Wojciech Czarnowski\n",
            "For Stemmer copyright (C) 2018 Krzysztof Wolk and Wojciech Czarnowski\n",
            "Wojciech Czarnowski: wojtek.czarnowski@gmail.com, +48(608)202-272\n",
            "Krzysztof Wolk: krz.wolk@gmail.com, +48(606)918-623\n",
            "\n",
            "Dictionary: \"bin/stemmer2.dic\"\n",
            "Input file: \"data/rnn_generator/pan_tadeusz.caps1.txt\"\n",
            "Output file: \"data/rnn_generator/pan_tadeusz.syl1.txt\"\n",
            "Stem number: \"7683\"\n",
            "\n",
            "Stemming options:\n",
            "  StemNiePrefix     : Yes\n",
            "  StemExtraPrefixes : Yes\n",
            "  StemPrefixesInRoot: No\n",
            "\n",
            "Syllable division options:\n",
            "  DivideWords          : Yes\n",
            "  DivideWithDictionary : Yes\n",
            "  DivideAlgorithmically: Yes\n",
            "  DivideUknkownWords   : Yes\n",
            "  divideAfterChar      : 1\n",
            "\n",
            "Stemming formatting options:\n",
            "  StemInSuffix       : No\n",
            "  ShowPOSInfo        : No\n",
            "  ShowExtraPOSInfo   : No\n",
            "\n",
            "  ShowGroupCode      : No\n",
            "  ShowBaseSuffixCodes: No\n",
            "  ShowSuffixCode     : No\n",
            "\n",
            "  stemDelimiterStr   : \"++ --\"\n",
            "  codeDelimiterStr   : \"@@\"\n",
            "\n",
            "StemFile(fileInPath: \"data/rnn_generator/pan_tadeusz.caps1.txt\", fileOutPath: \"data/rnn_generator/pan_tadeusz.syl1.txt\")\n",
            "Finished.\n"
          ],
          "name": "stdout"
        }
      ]
    },
    {
      "cell_type": "code",
      "metadata": {
        "id": "rurUv5wf_135",
        "outputId": "706c197b-f8b8-4e54-b919-917d2def1aa9",
        "colab": {
          "base_uri": "https://localhost:8080/"
        }
      },
      "source": [
        "!head -n 21 $fn_corpus_syl"
      ],
      "execution_count": null,
      "outputs": [
        {
          "output_type": "stream",
          "text": [
            " _up_ księ++ --ga  _up_ pié++ --rwsza.\n",
            "\n",
            "\n",
            "\n",
            "\n",
            " _up_ go++ --s++ --po++ --dar++ --stwo.\n",
            "\n",
            "\n",
            " _up_ treść.\n",
            "\n",
            "     _cap_ po++ --wrot pa++ --ni++ --cza --  _cap_ spot++ --ka++ --nie się pié++ --rwsze w po++ --koi++ --ku, dru++ --gie u\n",
            "    sto++ --łu --  _cap_ waż++ --na  _cap_ sę++ --dzie++ --go na++ --u++ --ka o grze++ --cz++ --no++ --ści --  _cap_ pod++ --ko++ --mo++ --rze++ --go u++ --wa++ --gi\n",
            "    po++ --li++ --ty++ --cz++ --ne nad mo++ --da++ --mi --  _cap_ po++ --czą++ --tek spo++ --ru o  _cap_ ku++ --se++ --go i  _cap_ so++ --ko++ --ła --  _cap_ ża++ --le\n",
            "     _cap_ woj++ --skie++ --go --  _cap_ o++ --sta++ --t++ --ni  _cap_ woź++ --ny  _cap_ try++ --bu++ --na++ --łu --  _cap_ rzut oka na ów++ --czes++ --ny stan\n",
            "    po++ --li++ --ty++ --cz++ --ny  _cap_ lit++ --wy i  _cap_ eu++ --ro++ --py.\n",
            "\n",
            "\n",
            "   _cap_ lit++ --wo!  _cap_ oj++ --czyz++ --no mo++ --ja! ty je++ --s++ --teś jak zdro++ --wie;\n",
            " _cap_ ile cię trze++ --ba ce++ --nić, ten tyl++ --ko się do++ --wie\n",
            " _cap_ kto cię stra++ --cił.  _cap_ dziś pięk++ --ność twą w całéj o++ --zdo++ --bie\n",
            " _cap_ wi++ --dzę i o++ --pi++ --su++ --ję, bo tęs++ --knię po to++ --bie.\n"
          ],
          "name": "stdout"
        }
      ]
    },
    {
      "cell_type": "markdown",
      "metadata": {
        "id": "vpf6QibJyyXL"
      },
      "source": [
        "### Załadowanie do pamięci i tokenizacja"
      ]
    },
    {
      "cell_type": "markdown",
      "metadata": {
        "id": "OSyGzgVD057R"
      },
      "source": [
        "Ładujemy korpus do pamięci i tokenizujemy. Tworzymy też listę wszystkich tokenów `all_tokens`. Mamy już specjalne tokeny `_cap_` i `_up_`, zamieniamy znaki końca lini na token `_eol_` i dodajemy token `_unk_` na wypadek, gdybyśmy użyli sylaby (tokena), który nie wystąpił wcześniej w korpusie."
      ]
    },
    {
      "cell_type": "code",
      "metadata": {
        "id": "g9H83p3sXM5L",
        "outputId": "a3b85538-3ce9-4c0b-d1df-2a78ec4aa7ec",
        "colab": {
          "base_uri": "https://localhost:8080/"
        }
      },
      "source": [
        "file = open(fn_corpus_syl).read()\n",
        "file_len = len(file)\n",
        "print('file_len =', file_len)"
      ],
      "execution_count": null,
      "outputs": [
        {
          "output_type": "stream",
          "text": [
            "file_len = 398396\n"
          ],
          "name": "stdout"
        }
      ]
    },
    {
      "cell_type": "code",
      "metadata": {
        "id": "maVrQMtZyyXU",
        "outputId": "6315e8fc-6597-42c2-ebf5-cbc97761ca66",
        "colab": {
          "base_uri": "https://localhost:8080/"
        }
      },
      "source": [
        "# taken from fastai/text.py\n",
        "\n",
        "# remove +,- chars from punctuation set to keep syllables e.g.'--PO++' intact\n",
        "# remove _ char to keep tokens intact\n",
        "punctuation=re.sub('[_\\+-]', '', string.punctuation)\n",
        "re_tok = re.compile(f'([{punctuation}“”¨«»®´·º½¾¿¡§£₤‘’])')\n",
        "\n",
        "def tokenize(s, repl_unk=True): \n",
        "  strings = re_tok.sub(r' \\1 ', s).replace('\\n', ' _eol_ ').split()\n",
        "  if repl_unk:\n",
        "    strings = [str2tok(s) for s in strings]\n",
        "  return strings\n",
        "\n",
        "file_tok = tokenize(file, repl_unk=False); len(file_tok), file_tok[:8]\n",
        "file_tok_len = len(file_tok)\n",
        "\n",
        "spec_tokens = ['_unk_', '_eol_', '_cap_', '_up_']\n",
        "\n",
        "all_tokens = []\n",
        "all_tokens.extend(spec_tokens)\n",
        "all_tokens.extend(sorted(list(set(file_tok))))\n",
        "n_tokens = len(all_tokens); print(n_tokens, all_tokens[:50])\n",
        "\n",
        "tok2idx_dict = {tok: idx for (idx, tok) in enumerate(all_tokens)}\n",
        "\n",
        "def str2tok(str) -> int:\n",
        "  return str if tok2idx_dict.get(str, 0) else all_tokens[0]\n",
        "\n",
        "def tok2idx(tok) -> int:\n",
        "  return tok2idx_dict.get(tok, 0)"
      ],
      "execution_count": null,
      "outputs": [
        {
          "output_type": "stream",
          "text": [
            "5059 ['_unk_', '_eol_', '_cap_', '_up_', '!', '\"', '%', \"'\", '(', ')', ',', '--', '--a++', '--aczéj', '--ał', '--b++', '--ba', '--ba++', '--bach', '--baj++', '--bak', '--ban', '--ban++', '--bar++', '--barz', '--baw', '--baw++', '--bał', '--baż', '--bcem', '--be++', '--bek', '--bel', '--bel++', '--belg', '--bem', '--ber++', '--bez++', '--beł', '--bi', '--bi++', '--bia', '--bia++', '--biad', '--biar++', '--biać', '--biał', '--bic', '--bie', '--bie++']\n"
          ],
          "name": "stdout"
        }
      ]
    },
    {
      "cell_type": "markdown",
      "metadata": {
        "id": "zaNxdcoMADVS"
      },
      "source": [
        "Przyda nam się funkcja do zakodowania dowolnego tekstu na listę zsylabizowanych tokenów:"
      ]
    },
    {
      "cell_type": "code",
      "metadata": {
        "id": "rDQqpRYzxT4L"
      },
      "source": [
        "def str2syl2tok(text):  \n",
        "  fn_tmp_text_caps = Path(tmp_path / 'tmp_text_caps1.txt')\n",
        "  fn_tmp_text_syl = Path(tmp_path / 'tmp_text_syl1.txt')\n",
        "  \n",
        "  text = do_caps(text)\n",
        "  fn_tmp_text_caps.open('w').write(text)\n",
        "  \n",
        "  !$stemmer_bin -s 7683 -d bin/stemmer2.dic -i $fn_tmp_text_caps -o $fn_tmp_text_syl\n",
        "  \n",
        "  text_syl = fn_tmp_text_syl.open('r').read()\n",
        "  \n",
        "  # kill last \\n eol char possibly added by stemmer\n",
        "  if text_syl[-1] == '\\n':\n",
        "    text_syl = text_syl[:-1]\n",
        "\n",
        "  text_tok = tokenize(text_syl, repl_unk=True)\n",
        "    \n",
        "  return text_tok"
      ],
      "execution_count": null,
      "outputs": []
    },
    {
      "cell_type": "code",
      "metadata": {
        "id": "gwnDdj75paVP",
        "outputId": "620b3b0b-598f-4d39-b23f-e6961a7ce0c4",
        "colab": {
          "base_uri": "https://localhost:8080/"
        }
      },
      "source": [
        "tekst = 'LITWO! Ojczyzno moja!\\nTy jesteś jak zdrowie.\\nIle cię trzeba cenić ble ble '\n",
        "tekst_tok = str2syl2tok(tekst); print(tekst_tok)"
      ],
      "execution_count": null,
      "outputs": [
        {
          "output_type": "stream",
          "text": [
            "['_up_', 'lit++', '--wo', '!', '_cap_', 'oj++', '--czyz++', '--no', 'mo++', '--ja', '!', '_eol_', '_cap_', 'ty', 'je++', '--s++', '--teś', 'jak', 'zdro++', '--wie', '.', '_eol_', '_cap_', 'ile', 'cię', 'trze++', '--ba', 'ce++', '--nić', '_unk_', '_unk_']\n"
          ],
          "name": "stdout"
        }
      ]
    },
    {
      "cell_type": "markdown",
      "metadata": {
        "id": "bAUKI80V6CvK"
      },
      "source": [
        "Funkcje pomocnicze do zdekodowania listy tokenów na tekst:"
      ]
    },
    {
      "cell_type": "code",
      "metadata": {
        "id": "JzAAi_95yyXq",
        "outputId": "5e16fc36-28bf-45e7-bc1e-9eb8ac078836",
        "colab": {
          "base_uri": "https://localhost:8080/"
        }
      },
      "source": [
        "def syl2str(a_list, delim='/'): \n",
        "  s = ' '.join(a_list)\n",
        "  \n",
        "  repl_list = [\n",
        "      ('++ --', delim), \n",
        "  ]\n",
        "  for repl in repl_list:\n",
        "    s = s.replace(repl[0], repl[1])\n",
        "  \n",
        "  return s\n",
        "\n",
        "print(syl2str(tekst_tok))"
      ],
      "execution_count": null,
      "outputs": [
        {
          "output_type": "stream",
          "text": [
            "_up_ lit/wo ! _cap_ oj/czyz/no mo/ja ! _eol_ _cap_ ty je/s/teś jak zdro/wie . _eol_ _cap_ ile cię trze/ba ce/nić _unk_ _unk_\n"
          ],
          "name": "stdout"
        }
      ]
    },
    {
      "cell_type": "code",
      "metadata": {
        "id": "pUs-bnu5q2FF",
        "outputId": "6925a5ea-5d86-4230-edd0-32004f89305c",
        "colab": {
          "base_uri": "https://localhost:8080/"
        }
      },
      "source": [
        "def decode_tokens(e_str):\n",
        "  # decode _eol_, _cap_ and _up_\n",
        "  # leave _unk_ token alone\n",
        "  e_syl = e_str.split(' ')\n",
        "  e_syl2 = []\n",
        "\n",
        "  cap = False; up = False\n",
        "\n",
        "  for syl in e_syl:\n",
        "    if syl == '_eol_': syl = '\\n'\n",
        "\n",
        "    if syl not in ['_cap_', '_up_']:\n",
        "      if cap == True: syl = syl.title(); cap = False\n",
        "      if up == True: syl = syl.upper(); up = False        \n",
        "      e_syl2.append(syl)\n",
        "\n",
        "    if syl == '_cap_': cap = True\n",
        "    if syl == '_up_': up = True\n",
        "\n",
        "  return ' '.join(e_syl2)\n",
        "\n",
        "print(decode_tokens(syl2str(tekst_tok, delim=''))[:300])"
      ],
      "execution_count": null,
      "outputs": [
        {
          "output_type": "stream",
          "text": [
            "LITWO ! Ojczyzno moja ! \n",
            " Ty jesteś jak zdrowie . \n",
            " Ile cię trzeba cenić _unk_ _unk_\n"
          ],
          "name": "stdout"
        }
      ]
    },
    {
      "cell_type": "code",
      "metadata": {
        "id": "pqbQLawfrV-n",
        "outputId": "7221e3d0-56e1-4c4c-8a11-467cfd4de978",
        "colab": {
          "base_uri": "https://localhost:8080/"
        }
      },
      "source": [
        "def fix_punctuation(s): \n",
        "  repl_list = [\n",
        "      ('\\n ', '\\n'), \n",
        "      (' ,', ','),\n",
        "      (' .', '.'),\n",
        "      (' !', '!'),\n",
        "      (' ?', '?'),\n",
        "      (' ;', ';'),\n",
        "      ('( ', '('),\n",
        "      (' )', ')'),\n",
        "      (' «', '«'),\n",
        "      ('» ', '»'),\n",
        "      (' :', ':')\n",
        "  ]\n",
        "  \n",
        "  for repl in repl_list:\n",
        "    s = s.replace(repl[0], repl[1])\n",
        "  \n",
        "  return s\n",
        "\n",
        "print(fix_punctuation(decode_tokens(syl2str(tekst_tok, delim='')))[:300])"
      ],
      "execution_count": null,
      "outputs": [
        {
          "output_type": "stream",
          "text": [
            "LITWO! Ojczyzno moja! \n",
            "Ty jesteś jak zdrowie. \n",
            "Ile cię trzeba cenić _unk_ _unk_\n"
          ],
          "name": "stdout"
        }
      ]
    },
    {
      "cell_type": "markdown",
      "metadata": {
        "id": "v2VJHqQmCyuT"
      },
      "source": [
        "Sformatujmy zdekodowany tekst w HTML i zaznaczmy na czerwono sylaby, z których nie dało się skleić słów."
      ]
    },
    {
      "cell_type": "code",
      "metadata": {
        "id": "WFj5nGp5yyYI",
        "outputId": "23ea0f60-fee7-47de-cbdf-18e61f9a7866",
        "colab": {
          "base_uri": "https://localhost:8080/",
          "height": 68
        }
      },
      "source": [
        "class X(str):\n",
        "    def rpl(self, p, c='lightgray'):\n",
        "        return X(self.replace(p, f'<font color=\"{c}\">{p}</font>'))\n",
        "    def rpl2(self, p, p2):\n",
        "        return X(self.replace(p, p2))\n",
        "      \n",
        "def format_html(e_str):\n",
        "  return X(e_str).rpl('/').rpl('--', c='red').rpl('++', c='red').rpl2('\\n', '\\n<br/>')\n",
        "\n",
        "e_str = fix_punctuation(decode_tokens(syl2str(tekst_tok, delim='')))[:400]\n",
        "e_html = format_html(e_str); display(HTML(e_html))"
      ],
      "execution_count": null,
      "outputs": [
        {
          "output_type": "display_data",
          "data": {
            "text/html": [
              "LITWO! Ojczyzno moja! \n",
              "<br/>Ty jesteś jak zdrowie. \n",
              "<br/>Ile cię trzeba cenić _unk_ _unk_"
            ],
            "text/plain": [
              "<IPython.core.display.HTML object>"
            ]
          },
          "metadata": {
            "tags": []
          }
        }
      ]
    },
    {
      "cell_type": "markdown",
      "metadata": {
        "id": "nnmXGTva5nw-"
      },
      "source": [
        "## Przygotowanie treningu"
      ]
    },
    {
      "cell_type": "markdown",
      "metadata": {
        "id": "2cIY0S4g0gZo"
      },
      "source": [
        "### GPU?"
      ]
    },
    {
      "cell_type": "code",
      "metadata": {
        "id": "2hTjsshick9K",
        "outputId": "8e6d4d3f-f4ee-4e7e-bc06-fb06e68f70b4",
        "colab": {
          "base_uri": "https://localhost:8080/"
        }
      },
      "source": [
        "USE_GPU = torch.cuda.is_available(); \n",
        "# USE_GPU = False; \n",
        "\n",
        "print(f'USE_GPU={USE_GPU}')\n",
        "\n",
        "def to_gpu(x, *args, **kwargs):\n",
        "    return x.cuda(*args, **kwargs) if USE_GPU else x"
      ],
      "execution_count": null,
      "outputs": [
        {
          "output_type": "stream",
          "text": [
            "USE_GPU=True\n"
          ],
          "name": "stdout"
        }
      ]
    },
    {
      "cell_type": "markdown",
      "metadata": {
        "id": "X5cFLx6WXM5X"
      },
      "source": [
        "### Budowa sieci rekurencyjnej\n",
        "\n",
        "Ten model przyjmie jako wejściie token dla kroku $ t _ {- 1} $ i ma wyprowadzić następny token $ t $. Istnieją trzy warstwy - jedna warstwa liniowa, która koduje znak wejściowy do stanu wewnętrznego, jedna warstwa GRU (która może sama mieć wiele warstw), która działa na tym stanie wewnętrznym i stanie ukrytym, oraz warstwa dekodera, która wyprowadza rozkład prawdopodobieństwa."
      ]
    },
    {
      "cell_type": "code",
      "metadata": {
        "id": "tZ8chQcVXM5X"
      },
      "source": [
        "class RNN(nn.Module):\n",
        "    def __init__(self, input_size, hidden_size, output_size, n_layers=1):\n",
        "        super(RNN, self).__init__()\n",
        "        self.input_size = input_size\n",
        "        self.hidden_size = hidden_size\n",
        "        self.output_size = output_size\n",
        "        self.n_layers = n_layers\n",
        "        \n",
        "        self.encoder = nn.Embedding(input_size, hidden_size)\n",
        "        self.gru = nn.GRU(hidden_size, hidden_size, n_layers)\n",
        "        self.decoder = nn.Linear(hidden_size, output_size)\n",
        "    \n",
        "    def forward(self, input, hidden):\n",
        "        input = self.encoder(input.view(1, -1))\n",
        "        output, hidden = self.gru(input.view(1, 1, -1), hidden)\n",
        "        output = self.decoder(output.view(1, -1))\n",
        "        return output, hidden\n",
        "\n",
        "    def init_hidden(self):\n",
        "        return Variable(to_gpu(torch.zeros(self.n_layers, 1, self.hidden_size)))"
      ],
      "execution_count": null,
      "outputs": []
    },
    {
      "cell_type": "markdown",
      "metadata": {
        "id": "62XSRFgkXM5Z"
      },
      "source": [
        "### Tensory wejściowe i docelowe"
      ]
    },
    {
      "cell_type": "markdown",
      "metadata": {
        "id": "lL_XOG-fXM5T"
      },
      "source": [
        "Aby stworzyć 'wejścia' z tego dużego ciągu danych, podzielimy go na kawałki po 400 sylab:"
      ]
    },
    {
      "cell_type": "code",
      "metadata": {
        "id": "_zwmRSAHXM5T",
        "outputId": "a87903a5-72ae-4570-869c-d8d4617c652a",
        "colab": {
          "base_uri": "https://localhost:8080/"
        }
      },
      "source": [
        "chunk_len = 400\n",
        "\n",
        "def random_chunk():\n",
        "    start_index = random.randint(0, file_tok_len - chunk_len -1)\n",
        "    end_index = start_index + chunk_len + 1\n",
        "    return file_tok[start_index:end_index]\n",
        "  \n",
        "n_samples = file_tok_len // chunk_len; n_samples, file_tok_len"
      ],
      "execution_count": null,
      "outputs": [
        {
          "output_type": "execute_result",
          "data": {
            "text/plain": [
              "(198, 79544)"
            ]
          },
          "metadata": {
            "tags": []
          },
          "execution_count": 47
        }
      ]
    },
    {
      "cell_type": "markdown",
      "metadata": {
        "id": "UaOPvn0rXM5Z"
      },
      "source": [
        "Każdy 'kawałek' zostanie przekształcony w tensor, a dokładnie w `LongTensor` (używany do wartości całkowitych), poprzez przepuszczenie wszystkich tokenów ciągu i wyszukiwanie indeksu każdej sylaby w `all_tokens`."
      ]
    },
    {
      "cell_type": "code",
      "metadata": {
        "id": "q0H2nwMMXM5a"
      },
      "source": [
        "# Turn token list into list of longs\n",
        "def tok_tensor(token_list):\n",
        "    tensor = torch.zeros(len(token_list)).long()\n",
        "    for c in range(len(token_list)):\n",
        "        tensor[c] = tok2idx(token_list[c])\n",
        "    \n",
        "    return Variable(to_gpu(tensor))"
      ],
      "execution_count": null,
      "outputs": []
    },
    {
      "cell_type": "code",
      "metadata": {
        "id": "zrTEI7EjyyX2",
        "outputId": "09613e69-b910-40ff-b42b-c6468a81482e",
        "colab": {
          "base_uri": "https://localhost:8080/"
        }
      },
      "source": [
        "tekst = 'Litwo! Ojczyzno moja! ty jesteś jak zdrowie;'\n",
        "tekst_tok = str2syl2tok(tekst)\n",
        "print(tekst_tok)\n",
        "print(tok_tensor(tekst_tok))"
      ],
      "execution_count": null,
      "outputs": [
        {
          "output_type": "stream",
          "text": [
            "['_cap_', 'lit++', '--wo', '!', '_cap_', 'oj++', '--czyz++', '--no', 'mo++', '--ja', '!', 'ty', 'je++', '--s++', '--teś', 'jak', 'zdro++', '--wie', ';']\n",
            "tensor([2721, 3565, 2396,    4, 2721, 3776,  435, 1424, 3642,  865,    4, 4468,\n",
            "        3365, 1738, 2151, 3354, 4810, 2332, 2716], device='cuda:0')\n"
          ],
          "name": "stdout"
        }
      ]
    },
    {
      "cell_type": "markdown",
      "metadata": {
        "id": "0Su49JvFXM5d"
      },
      "source": [
        "Wreszcie możemy zmontować parę tensorów wejściowych i docelowych do treningu, z losowego kawałka. Wejściem zostaną wszystkie tokeny * aż do przedostatniego*, a celem (targetem) będą wszystkie tokeny * od drugiego*. Jeśli więc nasz kawałek to \"abc\", wejście będzie odpowiadać \"ab\", podczas gdy cel to \"bc\"."
      ]
    },
    {
      "cell_type": "code",
      "metadata": {
        "id": "mLzzsbTRXM5d",
        "outputId": "88637cab-dc4d-48cb-c2f9-5cd9b25402e4",
        "colab": {
          "base_uri": "https://localhost:8080/"
        }
      },
      "source": [
        "def random_training_set():  \n",
        "    chunk = random_chunk()\n",
        "    inp = tok_tensor(chunk[:-1])\n",
        "    target = tok_tensor(chunk[1:])\n",
        "    return inp, target\n",
        "  \n",
        "inp, target = random_training_set(); inp[:9], target[:9]"
      ],
      "execution_count": null,
      "outputs": [
        {
          "output_type": "execute_result",
          "data": {
            "text/plain": [
              "(tensor([4439, 2283,   10, 2722, 2721, 2832,  605, 4107, 4427], device='cuda:0'),\n",
              " tensor([2283,   10, 2722, 2721, 2832,  605, 4107, 4427,  977], device='cuda:0'))"
            ]
          },
          "metadata": {
            "tags": []
          },
          "execution_count": 50
        }
      ]
    },
    {
      "cell_type": "markdown",
      "metadata": {
        "id": "vSJ_szQTXM5f"
      },
      "source": [
        "### Ewaluacja wyników\n",
        "\n",
        "Aby ocenić sieć, będziemy podawać po jednym tokenie na raz, wykorzystywać wyjścia sieci jako rozkład prawdopodobieństwa dla następnego znaku i powtarzać. Aby rozpocząć generowanie, przekazujemy ciąg wstępny, aby rozpocząć budowanie stanu ukrytego, z którego następnie generujemy po jednym tokenie na raz."
      ]
    },
    {
      "cell_type": "code",
      "metadata": {
        "id": "2ecqC4rWXM5f"
      },
      "source": [
        "def evaluate(prime_tokl=[all_tokens[1]], predict_len=100, temperature=0.8):\n",
        "    hidden = decoder.init_hidden()\n",
        "    prime_input = tok_tensor(prime_tokl)\n",
        "    predicted = list(prime_tokl)  # need a copy of the list\n",
        "\n",
        "    # Use priming token list to \"build up\" hidden state\n",
        "    for p in range(len(prime_tokl) - 1):\n",
        "        _, hidden = decoder(prime_input[p], hidden)\n",
        "    inp = prime_input[-1]\n",
        "    \n",
        "    for p in range(predict_len):\n",
        "        output, hidden = decoder(inp, hidden)\n",
        "        \n",
        "        # Sample from the network as a multinomial distribution\n",
        "        output_dist = output.data.view(-1).div(temperature).exp()\n",
        "        \n",
        "        # in pytorch 0.4.0 max, min fail if there are Infs or nans\n",
        "        # https://github.com/pytorch/pytorch/issues/6996\n",
        "        # in all pytorch versions multinomial fails if there are Infs or nans\n",
        "        # https://github.com/pytorch/pytorch/issues/871\n",
        "        # temp fix, kill Infs and nans\n",
        "        # https://discuss.pytorch.org/t/how-to-set-inf-in-tensor-variable-to-0/10235\n",
        "        output_dist[output_dist == float(\"Inf\")] = 0\n",
        "        output_dist[output_dist == float(\"nan\")] = 0\n",
        "        \n",
        "        top_i = torch.multinomial(output_dist, 1)[0].item()\n",
        "        \n",
        "        # Add predicted token to the list and use as next input\n",
        "        predicted_token = all_tokens[top_i]\n",
        "        predicted.append(predicted_token)\n",
        "        inp = tok_tensor([predicted_token])\n",
        "\n",
        "    return predicted"
      ],
      "execution_count": null,
      "outputs": []
    },
    {
      "cell_type": "markdown",
      "metadata": {
        "id": "lZY0fPgEXM5h"
      },
      "source": [
        "## Trening sieci"
      ]
    },
    {
      "cell_type": "markdown",
      "metadata": {
        "id": "-pM5T97tXM5h"
      },
      "source": [
        "Funkcja pomocnicza do wydrukowania upływającego czasu:"
      ]
    },
    {
      "cell_type": "code",
      "metadata": {
        "id": "hQnLeX-TXM5h"
      },
      "source": [
        "def time_since(since):\n",
        "    s = time.time() - since\n",
        "    m = math.floor(s / 60)\n",
        "    s -= m * 60\n",
        "    return '%dm %ds' % (m, s)"
      ],
      "execution_count": null,
      "outputs": []
    },
    {
      "cell_type": "markdown",
      "metadata": {
        "id": "0pntPTWEXM5i"
      },
      "source": [
        "Główna funkcja treningowa:"
      ]
    },
    {
      "cell_type": "code",
      "metadata": {
        "id": "QKb7-MeXXM5j"
      },
      "source": [
        "def train(inp, target):\n",
        "    hidden = decoder.init_hidden()\n",
        "    decoder.zero_grad()\n",
        "    loss = 0\n",
        "\n",
        "    for c in range(chunk_len):\n",
        "        output, hidden = decoder(inp[c], hidden)\n",
        "        loss += criterion(output, target[c].expand(1))\n",
        "\n",
        "    loss.backward()\n",
        "    decoder_optimizer.step()\n",
        "\n",
        "    return loss.item() / chunk_len"
      ],
      "execution_count": null,
      "outputs": []
    },
    {
      "cell_type": "markdown",
      "metadata": {
        "id": "2EiZtEsA0571"
      },
      "source": [
        "Opcjonalny monitoring postępu treningu:"
      ]
    },
    {
      "cell_type": "code",
      "metadata": {
        "id": "HpYR9j3qyyYF"
      },
      "source": [
        "USE_VISDOM = False\n",
        "\n",
        "vis = None\n",
        "if USE_VISDOM:\n",
        "    import visdom\n",
        "    vis = visdom.Visdom(port=8890)\n",
        "\n",
        "def vis_update_line_chart(vis, name, x, y, first_step):\n",
        "    if not USE_VISDOM: return\n",
        "    vis.line(Y=np.array([y]), X=np.array([x]), win=name, opts=dict(title=name),\n",
        "             update=None if first_step else 'append')\n",
        "\n",
        "def vis_update_text_win(vis, name, text):\n",
        "    if not USE_VISDOM: return\n",
        "    vis.text(text, win=name, opts=dict(title=name), append=False)"
      ],
      "execution_count": null,
      "outputs": []
    },
    {
      "cell_type": "markdown",
      "metadata": {
        "id": "5sjJFcYJDzZ2"
      },
      "source": [
        "Wskaźnik liczby sylab, z których nie dało się skleić słów:"
      ]
    },
    {
      "cell_type": "code",
      "metadata": {
        "id": "tY2U1vt4yyYK"
      },
      "source": [
        "def bad_words(e_syl): e_str = syl2str(e_syl); return (e_str.count('++') + e_str.count('--')) / len(e_syl)"
      ],
      "execution_count": null,
      "outputs": []
    },
    {
      "cell_type": "markdown",
      "metadata": {
        "id": "tyo69fakXM5k"
      },
      "source": [
        "Następnie definiujemy parametry treningowe i rozpoczynamy trening:"
      ]
    },
    {
      "cell_type": "code",
      "metadata": {
        "id": "ILThkaRPXM5k",
        "outputId": "d7cabfb3-9935-4bb8-d532-5350d1f6a725",
        "colab": {
          "base_uri": "https://localhost:8080/"
        }
      },
      "source": [
        "n_epochs = 1\n",
        "n_iters = n_epochs * n_samples\n",
        "print_every = n_samples // 2\n",
        "plot_every = n_samples // 4\n",
        "hidden_size = 500\n",
        "n_layers = 3\n",
        "lr = 0.001\n",
        "\n",
        "decoder = RNN(n_tokens, hidden_size, n_tokens, n_layers)\n",
        "if USE_GPU:\n",
        "    decoder.cuda()\n",
        "print(decoder, flush=True)\n",
        "\n",
        "decoder_optimizer = torch.optim.Adam(decoder.parameters(), lr=lr)\n",
        "criterion = nn.CrossEntropyLoss()\n",
        "if USE_GPU:\n",
        "    criterion.cuda()\n",
        "\n",
        "all_losses = []\n",
        "loss_avg = 0\n",
        "all_bw = []\n",
        "bw_avg = 0\n",
        "\n",
        "iterable = range(1, n_iters + 1)\n",
        "tqdm_ = tqdm(iterable, '', leave=False, dynamic_ncols=True, mininterval=1.0, ascii=True, miniters=1)\n",
        "first_step = True\n",
        "\n",
        "prime_tok = str2syl2tok('Litwo! Ojczyzno moja!')"
      ],
      "execution_count": null,
      "outputs": [
        {
          "output_type": "stream",
          "text": [
            "RNN(\n",
            "  (encoder): Embedding(5059, 500)\n",
            "  (gru): GRU(500, 500, num_layers=3)\n",
            "  (decoder): Linear(in_features=500, out_features=5059, bias=True)\n",
            ")\n"
          ],
          "name": "stdout"
        },
        {
          "output_type": "stream",
          "text": [
            "\n",
            "  0%|          | 0/198 [00:00<?, ?it/s]\u001b[A"
          ],
          "name": "stderr"
        }
      ]
    },
    {
      "cell_type": "code",
      "metadata": {
        "id": "R6y2kdZUj2bw",
        "outputId": "82898ab2-0463-4907-b7cc-73291f479122",
        "colab": {
          "base_uri": "https://localhost:8080/",
          "height": 1000
        }
      },
      "source": [
        "start = time.time()\n",
        "\n",
        "for it in tqdm_:\n",
        "    epoch = 1 + it // n_samples\n",
        "    loss = train(*random_training_set())       \n",
        "    loss_avg += loss\n",
        "\n",
        "    # current loss chart\n",
        "    vis_update_line_chart(vis, 'loss', it, loss, it == 1)\n",
        "\n",
        "    # bad words    \n",
        "    bw = bad_words(evaluate(prime_tok, 100))\n",
        "    bw_avg += bw\n",
        "\n",
        "    # current bad words chart\n",
        "    vis_update_line_chart(vis, 'bad_words', it, bw, it == 1)\n",
        "    \n",
        "    # progress_bar\n",
        "    tqdm_.set_postfix({'epoch': f'{epoch}/{n_epochs}', 'loss': loss, 'bw': bw})\n",
        "    text = f'&nbsp;<font color=\"red\">{tqdm_}</font>'\n",
        "    vis_update_text_win(vis, 'progress_bar', text)\n",
        "\n",
        "    if it % print_every == 0:\n",
        "        e_syl = evaluate(prime_tok, 1000)\n",
        "        e_bw = bad_words(e_syl)\n",
        "        stats_str = '\\n[%s (%d %d %d%%) loss=%.4f bw=%.4f]' % (time_since(start), epoch, it, it / n_iters * 100, loss, e_bw)\n",
        "        print(stats_str)\n",
        "        \n",
        "        e_str = fix_punctuation(decode_tokens(syl2str(e_syl, delim='')))\n",
        "        e_html = format_html(e_str); display(HTML(e_html))\n",
        "        print(flush=True)        \n",
        "        \n",
        "        text = f'<b>{stats_str}</b><br />{e_html}'\n",
        "        vis_update_text_win(vis, 'evaluation', text)\n",
        "        \n",
        "        e_syl_path = tmp_path / 'e_syl.txt'\n",
        "        e_syl_path.open('w').write(' '.join(e_syl))\n",
        "\n",
        "    if it % plot_every == 0:\n",
        "        vis_update_line_chart(vis, 'loss_avg', it, loss_avg / plot_every, first_step)\n",
        "        vis_update_line_chart(vis, 'bad_words_avg', it, bw_avg / plot_every, first_step)\n",
        "        all_bw.append(bw)\n",
        "        bw_avg = 0\n",
        "        first_step = False\n",
        "        all_losses.append(loss_avg / plot_every)\n",
        "        loss_avg = 0"
      ],
      "execution_count": null,
      "outputs": [
        {
          "output_type": "stream",
          "text": [
            "\n",
            "  0%|          | 0/198 [00:01<?, ?it/s, epoch=1/1, loss=8.53, bw=0.459]\u001b[A\n",
            "  1%|          | 1/198 [00:01<05:08,  1.57s/it, epoch=1/1, loss=8.53, bw=0.459]\u001b[A\n",
            "  1%|          | 1/198 [00:02<05:08,  1.57s/it, epoch=1/1, loss=8.44, bw=0.55] \u001b[A\n",
            "  1%|          | 1/198 [00:02<05:08,  1.57s/it, epoch=1/1, loss=8.28, bw=0.405]\u001b[A\n",
            "  2%|1         | 3/198 [00:02<04:11,  1.29s/it, epoch=1/1, loss=8.28, bw=0.405]\u001b[A\n",
            "  2%|1         | 3/198 [00:03<04:11,  1.29s/it, epoch=1/1, loss=7.68, bw=0.18] \u001b[A\n",
            "  2%|1         | 3/198 [00:04<04:11,  1.29s/it, epoch=1/1, loss=7.31, bw=0.324]\u001b[A\n",
            "  3%|2         | 5/198 [00:04<03:31,  1.10s/it, epoch=1/1, loss=7.31, bw=0.324]\u001b[A\n",
            "  3%|2         | 5/198 [00:04<03:31,  1.10s/it, epoch=1/1, loss=7.06, bw=0.324]\u001b[A\n",
            "  3%|2         | 5/198 [00:05<03:31,  1.10s/it, epoch=1/1, loss=7.07, bw=0.315]\u001b[A\n",
            "  4%|3         | 7/198 [00:05<03:03,  1.04it/s, epoch=1/1, loss=7.07, bw=0.315]\u001b[A\n",
            "  4%|3         | 7/198 [00:06<03:03,  1.04it/s, epoch=1/1, loss=6.79, bw=0.405]\u001b[A\n",
            "  4%|3         | 7/198 [00:06<03:03,  1.04it/s, epoch=1/1, loss=6.81, bw=0.387]\u001b[A\n",
            "  5%|4         | 9/198 [00:06<02:43,  1.16it/s, epoch=1/1, loss=6.81, bw=0.387]\u001b[A\n",
            "  5%|4         | 9/198 [00:07<02:43,  1.16it/s, epoch=1/1, loss=6.74, bw=0.396]\u001b[A\n",
            "  5%|4         | 9/198 [00:08<02:43,  1.16it/s, epoch=1/1, loss=6.75, bw=0.423]\u001b[A\n",
            "  6%|5         | 11/198 [00:08<02:29,  1.25it/s, epoch=1/1, loss=6.75, bw=0.423]\u001b[A\n",
            "  6%|5         | 11/198 [00:08<02:29,  1.25it/s, epoch=1/1, loss=6.68, bw=0.351]\u001b[A\n",
            "  6%|5         | 11/198 [00:09<02:29,  1.25it/s, epoch=1/1, loss=6.82, bw=0.432]\u001b[A\n",
            "  7%|6         | 13/198 [00:09<02:19,  1.32it/s, epoch=1/1, loss=6.82, bw=0.432]\u001b[A\n",
            "  7%|6         | 13/198 [00:09<02:19,  1.32it/s, epoch=1/1, loss=6.37, bw=0.369]\u001b[A\n",
            "  7%|6         | 13/198 [00:10<02:19,  1.32it/s, epoch=1/1, loss=6.61, bw=0.369]\u001b[A\n",
            "  8%|7         | 15/198 [00:10<02:11,  1.39it/s, epoch=1/1, loss=6.61, bw=0.369]\u001b[A\n",
            "  8%|7         | 15/198 [00:11<02:11,  1.39it/s, epoch=1/1, loss=6.63, bw=0.414]\u001b[A\n",
            "  8%|7         | 15/198 [00:11<02:11,  1.39it/s, epoch=1/1, loss=6.03, bw=0.369]\u001b[A\n",
            "  9%|8         | 17/198 [00:11<02:06,  1.43it/s, epoch=1/1, loss=6.03, bw=0.369]\u001b[A\n",
            "  9%|8         | 17/198 [00:12<02:06,  1.43it/s, epoch=1/1, loss=6.69, bw=0.405]\u001b[A\n",
            "  9%|8         | 17/198 [00:13<02:06,  1.43it/s, epoch=1/1, loss=6.59, bw=0.36] \u001b[A\n",
            " 10%|9         | 19/198 [00:13<02:02,  1.46it/s, epoch=1/1, loss=6.59, bw=0.36]\u001b[A\n",
            " 10%|9         | 19/198 [00:13<02:02,  1.46it/s, epoch=1/1, loss=6.73, bw=0.378]\u001b[A\n",
            " 10%|9         | 19/198 [00:14<02:02,  1.46it/s, epoch=1/1, loss=6.44, bw=0.387]\u001b[A\n",
            " 11%|#         | 21/198 [00:14<01:59,  1.48it/s, epoch=1/1, loss=6.44, bw=0.387]\u001b[A\n",
            " 11%|#         | 21/198 [00:15<01:59,  1.48it/s, epoch=1/1, loss=6.52, bw=0.396]\u001b[A\n",
            " 11%|#         | 21/198 [00:15<01:59,  1.48it/s, epoch=1/1, loss=6.61, bw=0.396]\u001b[A\n",
            " 12%|#1        | 23/198 [00:15<01:56,  1.50it/s, epoch=1/1, loss=6.61, bw=0.396]\u001b[A\n",
            " 12%|#1        | 23/198 [00:16<01:56,  1.50it/s, epoch=1/1, loss=6.27, bw=0.324]\u001b[A\n",
            " 12%|#1        | 23/198 [00:17<01:56,  1.50it/s, epoch=1/1, loss=6.55, bw=0.369]\u001b[A\n",
            " 13%|#2        | 25/198 [00:17<01:53,  1.52it/s, epoch=1/1, loss=6.55, bw=0.369]\u001b[A\n",
            " 13%|#2        | 25/198 [00:17<01:53,  1.52it/s, epoch=1/1, loss=6.52, bw=0.405]\u001b[A\n",
            " 13%|#2        | 25/198 [00:18<01:53,  1.52it/s, epoch=1/1, loss=6.79, bw=0.333]\u001b[A\n",
            " 14%|#3        | 27/198 [00:18<01:52,  1.53it/s, epoch=1/1, loss=6.79, bw=0.333]\u001b[A\n",
            " 14%|#3        | 27/198 [00:19<01:52,  1.53it/s, epoch=1/1, loss=6.51, bw=0.279]\u001b[A\n",
            " 14%|#3        | 27/198 [00:19<01:52,  1.53it/s, epoch=1/1, loss=6.37, bw=0.369]\u001b[A\n",
            " 15%|#4        | 29/198 [00:19<01:50,  1.53it/s, epoch=1/1, loss=6.37, bw=0.369]\u001b[A\n",
            " 15%|#4        | 29/198 [00:20<01:50,  1.53it/s, epoch=1/1, loss=6.51, bw=0.333]\u001b[A\n",
            " 15%|#4        | 29/198 [00:20<01:50,  1.53it/s, epoch=1/1, loss=6.33, bw=0.351]\u001b[A\n",
            " 16%|#5        | 31/198 [00:20<01:48,  1.54it/s, epoch=1/1, loss=6.33, bw=0.351]\u001b[A\n",
            " 16%|#5        | 31/198 [00:21<01:48,  1.54it/s, epoch=1/1, loss=6.35, bw=0.342]\u001b[A\n",
            " 16%|#5        | 31/198 [00:22<01:48,  1.54it/s, epoch=1/1, loss=6.38, bw=0.369]\u001b[A\n",
            " 17%|#6        | 33/198 [00:22<01:46,  1.54it/s, epoch=1/1, loss=6.38, bw=0.369]\u001b[A\n",
            " 17%|#6        | 33/198 [00:22<01:46,  1.54it/s, epoch=1/1, loss=6.47, bw=0.243]\u001b[A\n",
            " 17%|#6        | 33/198 [00:23<01:46,  1.54it/s, epoch=1/1, loss=6.1, bw=0.369] \u001b[A\n",
            " 18%|#7        | 35/198 [00:23<01:45,  1.55it/s, epoch=1/1, loss=6.1, bw=0.369]\u001b[A\n",
            " 18%|#7        | 35/198 [00:24<01:45,  1.55it/s, epoch=1/1, loss=6.3, bw=0.315]\u001b[A\n",
            " 18%|#7        | 35/198 [00:24<01:45,  1.55it/s, epoch=1/1, loss=6.31, bw=0.261]\u001b[A\n",
            " 19%|#8        | 37/198 [00:24<01:43,  1.55it/s, epoch=1/1, loss=6.31, bw=0.261]\u001b[A\n",
            " 19%|#8        | 37/198 [00:25<01:43,  1.55it/s, epoch=1/1, loss=6.37, bw=0.414]\u001b[A\n",
            " 19%|#8        | 37/198 [00:26<01:43,  1.55it/s, epoch=1/1, loss=6.43, bw=0.306]\u001b[A\n",
            " 20%|#9        | 39/198 [00:26<01:42,  1.55it/s, epoch=1/1, loss=6.43, bw=0.306]\u001b[A\n",
            " 20%|#9        | 39/198 [00:26<01:42,  1.55it/s, epoch=1/1, loss=6.15, bw=0.279]\u001b[A\n",
            " 20%|#9        | 39/198 [00:27<01:42,  1.55it/s, epoch=1/1, loss=6.35, bw=0.396]\u001b[A\n",
            " 21%|##        | 41/198 [00:27<01:41,  1.55it/s, epoch=1/1, loss=6.35, bw=0.396]\u001b[A\n",
            " 21%|##        | 41/198 [00:28<01:41,  1.55it/s, epoch=1/1, loss=6.25, bw=0.378]\u001b[A\n",
            " 21%|##        | 41/198 [00:28<01:41,  1.55it/s, epoch=1/1, loss=6.6, bw=0.387] \u001b[A\n",
            " 22%|##1       | 43/198 [00:28<01:39,  1.55it/s, epoch=1/1, loss=6.6, bw=0.387]\u001b[A\n",
            " 22%|##1       | 43/198 [00:29<01:39,  1.55it/s, epoch=1/1, loss=6.16, bw=0.387]\u001b[A\n",
            " 22%|##1       | 43/198 [00:29<01:39,  1.55it/s, epoch=1/1, loss=6.12, bw=0.288]\u001b[A\n",
            " 23%|##2       | 45/198 [00:29<01:38,  1.55it/s, epoch=1/1, loss=6.12, bw=0.288]\u001b[A\n",
            " 23%|##2       | 45/198 [00:30<01:38,  1.55it/s, epoch=1/1, loss=6.38, bw=0.441]\u001b[A\n",
            " 23%|##2       | 45/198 [00:31<01:38,  1.55it/s, epoch=1/1, loss=6, bw=0.396]   \u001b[A\n",
            " 24%|##3       | 47/198 [00:31<01:37,  1.55it/s, epoch=1/1, loss=6, bw=0.396]\u001b[A\n",
            " 24%|##3       | 47/198 [00:31<01:37,  1.55it/s, epoch=1/1, loss=6.27, bw=0.342]\u001b[A\n",
            " 24%|##3       | 47/198 [00:32<01:37,  1.55it/s, epoch=1/1, loss=6.24, bw=0.324]\u001b[A\n",
            " 25%|##4       | 49/198 [00:32<01:36,  1.55it/s, epoch=1/1, loss=6.24, bw=0.324]\u001b[A\n",
            " 25%|##4       | 49/198 [00:33<01:36,  1.55it/s, epoch=1/1, loss=6.3, bw=0.333] \u001b[A\n",
            " 25%|##4       | 49/198 [00:33<01:36,  1.55it/s, epoch=1/1, loss=6.16, bw=0.459]\u001b[A\n",
            " 26%|##5       | 51/198 [00:33<01:34,  1.55it/s, epoch=1/1, loss=6.16, bw=0.459]\u001b[A\n",
            " 26%|##5       | 51/198 [00:34<01:34,  1.55it/s, epoch=1/1, loss=6.36, bw=0.45] \u001b[A\n",
            " 26%|##5       | 51/198 [00:35<01:34,  1.55it/s, epoch=1/1, loss=6.19, bw=0.333]\u001b[A\n",
            " 27%|##6       | 53/198 [00:35<01:34,  1.53it/s, epoch=1/1, loss=6.19, bw=0.333]\u001b[A\n",
            " 27%|##6       | 53/198 [00:35<01:34,  1.53it/s, epoch=1/1, loss=6.18, bw=0.369]\u001b[A\n",
            " 27%|##6       | 53/198 [00:36<01:34,  1.53it/s, epoch=1/1, loss=6.04, bw=0.405]\u001b[A\n",
            " 28%|##7       | 55/198 [00:36<01:32,  1.54it/s, epoch=1/1, loss=6.04, bw=0.405]\u001b[A\n",
            " 28%|##7       | 55/198 [00:37<01:32,  1.54it/s, epoch=1/1, loss=6, bw=0.369]   \u001b[A\n",
            " 28%|##7       | 55/198 [00:37<01:32,  1.54it/s, epoch=1/1, loss=6.19, bw=0.333]\u001b[A\n",
            " 29%|##8       | 57/198 [00:37<01:31,  1.54it/s, epoch=1/1, loss=6.19, bw=0.333]\u001b[A\n",
            " 29%|##8       | 57/198 [00:38<01:31,  1.54it/s, epoch=1/1, loss=5.74, bw=0.396]\u001b[A\n",
            " 29%|##8       | 57/198 [00:39<01:31,  1.54it/s, epoch=1/1, loss=6.24, bw=0.36] \u001b[A\n",
            " 30%|##9       | 59/198 [00:39<01:29,  1.55it/s, epoch=1/1, loss=6.24, bw=0.36]\u001b[A\n",
            " 30%|##9       | 59/198 [00:39<01:29,  1.55it/s, epoch=1/1, loss=6.09, bw=0.36]\u001b[A\n",
            " 30%|##9       | 59/198 [00:40<01:29,  1.55it/s, epoch=1/1, loss=5.9, bw=0.36] \u001b[A\n",
            " 31%|###       | 61/198 [00:40<01:28,  1.54it/s, epoch=1/1, loss=5.9, bw=0.36]\u001b[A\n",
            " 31%|###       | 61/198 [00:40<01:28,  1.54it/s, epoch=1/1, loss=6.08, bw=0.369]\u001b[A\n",
            " 31%|###       | 61/198 [00:41<01:28,  1.54it/s, epoch=1/1, loss=6.18, bw=0.396]\u001b[A\n",
            " 32%|###1      | 63/198 [00:41<01:27,  1.54it/s, epoch=1/1, loss=6.18, bw=0.396]\u001b[A\n",
            " 32%|###1      | 63/198 [00:42<01:27,  1.54it/s, epoch=1/1, loss=6.2, bw=0.441] \u001b[A\n",
            " 32%|###1      | 63/198 [00:42<01:27,  1.54it/s, epoch=1/1, loss=5.95, bw=0.342]\u001b[A\n",
            " 33%|###2      | 65/198 [00:42<01:25,  1.55it/s, epoch=1/1, loss=5.95, bw=0.342]\u001b[A\n",
            " 33%|###2      | 65/198 [00:43<01:25,  1.55it/s, epoch=1/1, loss=6.19, bw=0.351]\u001b[A\n",
            " 33%|###2      | 65/198 [00:44<01:25,  1.55it/s, epoch=1/1, loss=6.11, bw=0.387]\u001b[A\n",
            " 34%|###3      | 67/198 [00:44<01:24,  1.55it/s, epoch=1/1, loss=6.11, bw=0.387]\u001b[A\n",
            " 34%|###3      | 67/198 [00:44<01:24,  1.55it/s, epoch=1/1, loss=6.01, bw=0.414]\u001b[A\n",
            " 34%|###3      | 67/198 [00:45<01:24,  1.55it/s, epoch=1/1, loss=6.1, bw=0.324] \u001b[A\n",
            " 35%|###4      | 69/198 [00:45<01:23,  1.54it/s, epoch=1/1, loss=6.1, bw=0.324]\u001b[A\n",
            " 35%|###4      | 69/198 [00:46<01:23,  1.54it/s, epoch=1/1, loss=6.09, bw=0.405]\u001b[A\n",
            " 35%|###4      | 69/198 [00:46<01:23,  1.54it/s, epoch=1/1, loss=6.2, bw=0.369] \u001b[A\n",
            " 36%|###5      | 71/198 [00:46<01:22,  1.54it/s, epoch=1/1, loss=6.2, bw=0.369]\u001b[A\n",
            " 36%|###5      | 71/198 [00:47<01:22,  1.54it/s, epoch=1/1, loss=6.08, bw=0.351]\u001b[A\n",
            " 36%|###5      | 71/198 [00:48<01:22,  1.54it/s, epoch=1/1, loss=6, bw=0.288]   \u001b[A\n",
            " 37%|###6      | 73/198 [00:48<01:21,  1.54it/s, epoch=1/1, loss=6, bw=0.288]\u001b[A\n",
            " 37%|###6      | 73/198 [00:48<01:21,  1.54it/s, epoch=1/1, loss=6.29, bw=0.441]\u001b[A\n",
            " 37%|###6      | 73/198 [00:49<01:21,  1.54it/s, epoch=1/1, loss=6.05, bw=0.396]\u001b[A\n",
            " 38%|###7      | 75/198 [00:49<01:20,  1.53it/s, epoch=1/1, loss=6.05, bw=0.396]\u001b[A\n",
            " 38%|###7      | 75/198 [00:50<01:20,  1.53it/s, epoch=1/1, loss=6.24, bw=0.315]\u001b[A\n",
            " 38%|###7      | 75/198 [00:50<01:20,  1.53it/s, epoch=1/1, loss=5.64, bw=0.351]\u001b[A\n",
            " 39%|###8      | 77/198 [00:50<01:19,  1.53it/s, epoch=1/1, loss=5.64, bw=0.351]\u001b[A\n",
            " 39%|###8      | 77/198 [00:51<01:19,  1.53it/s, epoch=1/1, loss=6.1, bw=0.342] \u001b[A\n",
            " 39%|###8      | 77/198 [00:52<01:19,  1.53it/s, epoch=1/1, loss=5.96, bw=0.405]\u001b[A\n",
            " 40%|###9      | 79/198 [00:52<01:18,  1.52it/s, epoch=1/1, loss=5.96, bw=0.405]\u001b[A\n",
            " 40%|###9      | 79/198 [00:52<01:18,  1.52it/s, epoch=1/1, loss=5.91, bw=0.378]\u001b[A\n",
            " 40%|###9      | 79/198 [00:53<01:18,  1.52it/s, epoch=1/1, loss=5.95, bw=0.342]\u001b[A\n",
            " 41%|####      | 81/198 [00:53<01:16,  1.52it/s, epoch=1/1, loss=5.95, bw=0.342]\u001b[A\n",
            " 41%|####      | 81/198 [00:54<01:16,  1.52it/s, epoch=1/1, loss=6.03, bw=0.342]\u001b[A\n",
            " 41%|####      | 81/198 [00:54<01:16,  1.52it/s, epoch=1/1, loss=5.95, bw=0.297]\u001b[A\n",
            " 42%|####1     | 83/198 [00:54<01:15,  1.53it/s, epoch=1/1, loss=5.95, bw=0.297]\u001b[A\n",
            " 42%|####1     | 83/198 [00:55<01:15,  1.53it/s, epoch=1/1, loss=6.1, bw=0.387] \u001b[A\n",
            " 42%|####1     | 83/198 [00:56<01:15,  1.53it/s, epoch=1/1, loss=5.92, bw=0.369]\u001b[A\n",
            " 43%|####2     | 85/198 [00:56<01:14,  1.53it/s, epoch=1/1, loss=5.92, bw=0.369]\u001b[A\n",
            " 43%|####2     | 85/198 [00:56<01:14,  1.53it/s, epoch=1/1, loss=5.97, bw=0.342]\u001b[A\n",
            " 43%|####2     | 85/198 [00:57<01:14,  1.53it/s, epoch=1/1, loss=6.11, bw=0.369]\u001b[A\n",
            " 44%|####3     | 87/198 [00:57<01:12,  1.54it/s, epoch=1/1, loss=6.11, bw=0.369]\u001b[A\n",
            " 44%|####3     | 87/198 [00:57<01:12,  1.54it/s, epoch=1/1, loss=6.19, bw=0.378]\u001b[A\n",
            " 44%|####3     | 87/198 [00:58<01:12,  1.54it/s, epoch=1/1, loss=6.48, bw=0.315]\u001b[A\n",
            " 45%|####4     | 89/198 [00:58<01:10,  1.54it/s, epoch=1/1, loss=6.48, bw=0.315]\u001b[A\n",
            " 45%|####4     | 89/198 [00:59<01:10,  1.54it/s, epoch=1/1, loss=6.17, bw=0.351]\u001b[A\n",
            " 45%|####4     | 89/198 [00:59<01:10,  1.54it/s, epoch=1/1, loss=5.89, bw=0.315]\u001b[A\n",
            " 46%|####5     | 91/198 [00:59<01:09,  1.54it/s, epoch=1/1, loss=5.89, bw=0.315]\u001b[A\n",
            " 46%|####5     | 91/198 [01:00<01:09,  1.54it/s, epoch=1/1, loss=5.89, bw=0.324]\u001b[A\n",
            " 46%|####5     | 91/198 [01:01<01:09,  1.54it/s, epoch=1/1, loss=5.91, bw=0.252]\u001b[A\n",
            " 47%|####6     | 93/198 [01:01<01:08,  1.54it/s, epoch=1/1, loss=5.91, bw=0.252]\u001b[A\n",
            " 47%|####6     | 93/198 [01:01<01:08,  1.54it/s, epoch=1/1, loss=6.21, bw=0.315]\u001b[A\n",
            " 47%|####6     | 93/198 [01:02<01:08,  1.54it/s, epoch=1/1, loss=6.23, bw=0.315]\u001b[A\n",
            " 48%|####7     | 95/198 [01:02<01:06,  1.54it/s, epoch=1/1, loss=6.23, bw=0.315]\u001b[A\n",
            " 48%|####7     | 95/198 [01:03<01:06,  1.54it/s, epoch=1/1, loss=6.11, bw=0.342]\u001b[A\n",
            " 48%|####7     | 95/198 [01:03<01:06,  1.54it/s, epoch=1/1, loss=5.95, bw=0.315]\u001b[A\n",
            " 49%|####8     | 97/198 [01:03<01:05,  1.54it/s, epoch=1/1, loss=5.95, bw=0.315]\u001b[A\n",
            " 49%|####8     | 97/198 [01:04<01:05,  1.54it/s, epoch=1/1, loss=5.88, bw=0.432]\u001b[A\n",
            " 49%|####8     | 97/198 [01:05<01:05,  1.54it/s, epoch=1/1, loss=6.23, bw=0.369]\u001b[A"
          ],
          "name": "stderr"
        },
        {
          "output_type": "stream",
          "text": [
            "\n",
            "[1m 5s (1 99 50%) loss=6.2304 bw=0.3828]\n"
          ],
          "name": "stdout"
        },
        {
          "output_type": "display_data",
          "data": {
            "text/html": [
              "Litwo! Ojczyzno moja! \n",
              "<br/><font color=\"red\">--</font>Wiąc <font color=\"red\">--</font>cu dal<font color=\"red\">++</font> się, swym nas <font color=\"red\">--</font>naną <font color=\"red\">--</font>bi<font color=\"red\">++</font> \n",
              "<br/>I idą moc blis<font color=\"red\">++</font> za brał <font color=\"red\">--</font>jąc, <font color=\"red\">--</font>wio<font color=\"red\">++</font>, uszy <font color=\"red\">--</font>chać <font color=\"red\">--</font>ło, \n",
              "<br/>, as<font color=\"red\">++</font> tego <font color=\"red\">--</font>gieldon <font color=\"red\">--</font>no<font color=\"red\">++</font> na <font color=\"red\">--</font>znał <font color=\"red\">--</font>wał <font color=\"red\">--</font>ka \n",
              "<br/>I ro<font color=\"red\">++</font> też tę<font color=\"red\">++</font> woź<font color=\"red\">++</font>; \n",
              "<br/><font color=\"red\">--</font>Likich o<font color=\"red\">++</font> ko<font color=\"red\">++</font> mó<font color=\"red\">++</font> w od rozrys<font color=\"red\">++</font> gło<font color=\"red\">++</font>, \n",
              "<br/>Padła<font color=\"red\">++</font> w słusz<font color=\"red\">++</font> xię<font color=\"red\">++</font> saje, że też w stawaciaż, \n",
              "<br/><font color=\"red\">--</font>Gdzie <font color=\"red\">--</font>szy <font color=\"red\">--</font>ło <font color=\"red\">--</font>ję stara<font color=\"red\">++</font> Tu <font color=\"red\">--</font>ku w jest co sa<font color=\"red\">++</font>, Sę<font color=\"red\">++</font> i, czarwet <font color=\"red\">--</font>sił <font color=\"red\">--</font>bieło<font color=\"red\">++</font>; \n",
              "<br/>Pod<font color=\"red\">++</font> są <font color=\"red\">--</font>dę <font color=\"red\">--</font>kła<font color=\"red\">++</font> strzel<font color=\"red\">++</font> lit<font color=\"red\">++</font> na łą<font color=\"red\">++</font> ich zwamy <font color=\"red\">--</font>tu<font color=\"red\">++</font> nieki: \n",
              "<br/><font color=\"red\">--</font>Ną <font color=\"red\">--</font>go <font color=\"red\">--</font>marasdzici <font color=\"red\">--</font>ją znikkiéj <font color=\"red\">--</font>wny, \n",
              "<br/>Ulów, <font color=\"red\">--</font>łu jeni <font color=\"red\">--</font>dzi<font color=\"red\">++</font> po<font color=\"red\">++</font> boprzy<font color=\"red\">++</font>, tonie: czerbo \n",
              "<br/>Pan miał, Od<font color=\"red\">++</font> też <font color=\"red\">--</font>je <font color=\"red\">--</font>cał <font color=\"red\">--</font>ruła ki<font color=\"red\">++</font>, tasza strwory, \n",
              "<br/>I to ży<font color=\"red\">++</font> narania niesią jeków <font color=\"red\">--</font>ści wrób<font color=\"red\">++</font> dzienia. \n",
              "<br/>Jest i zno<font color=\"red\">++</font> niżmy litką <font color=\"red\">--</font>ła <font color=\"red\">--</font>lec <font color=\"red\">--</font>pie<font color=\"red\">++</font>, \n",
              "<br/><font color=\"red\">--</font>Stek <font color=\"red\">--</font>liło? móło <font color=\"red\">--</font>zwał <font color=\"red\">--</font>dzi, i <font color=\"red\">--</font>ko <font color=\"red\">--</font>kę tam; \n",
              "<br/>ta<font color=\"red\">++</font> zacierz po<font color=\"red\">++</font> w w nóż głoskie,, Nie<font color=\"red\">++</font> bu<font color=\"red\">++</font> s że łzach <font color=\"red\">--</font>li. \n",
              "<br/>Tesu nas <font color=\"red\">--</font>pe<font color=\"red\">++</font> a<font color=\"red\">++</font> mony <font color=\"red\">--</font>pyrząt <font color=\"red\">--</font>skie <font color=\"red\">--</font>pię, wieldzina \n",
              "<br/><font color=\"red\">--</font>Jo<font color=\"red\">++</font> zady <font color=\"red\">--</font>czmień z <font color=\"red\">--</font>giel<font color=\"red\">++</font> mochrzczo<font color=\"red\">++</font>, Więcéj <font color=\"red\">--</font>kał <font color=\"red\">--</font>szy doń <font color=\"red\">--</font>ni, \n",
              "<br/>Po<font color=\"red\">++</font> mó<font color=\"red\">++</font> ki<font color=\"red\">++</font> za<font color=\"red\">++</font> stroże <font color=\"red\">--</font>szursiad<font color=\"red\">++</font> dłu<font color=\"red\">++</font> jakgosleż, \n",
              "<br/><font color=\"red\">--</font>Deusz <font color=\"red\">--</font>li stolimach, ta<font color=\"red\">++</font> tak jak na <font color=\"red\">--</font>ców <font color=\"red\">--</font>wnąwgał so<font color=\"red\">++</font>; \n",
              "<br/>Szczę<font color=\"red\">++</font> czwaby <font color=\"red\">--</font>wistwo kodzy dwóch <font color=\"red\">--</font>ku, po<font color=\"red\">++</font>, szko<font color=\"red\">++</font> jednéj, \n",
              "<br/>Bły<font color=\"red\">++</font> spago <font color=\"red\">--</font>moka za<font color=\"red\">++</font> mórza <font color=\"red\">--</font>ki, <font color=\"red\">--</font>bić <font color=\"red\">--</font>no woże, \n",
              "<br/>Po<font color=\"red\">++</font> rała zdałem w złoś<font color=\"red\">++</font> biecze <font color=\"red\">--</font>tą po<font color=\"red\">++</font> ger<font color=\"red\">++</font> u<font color=\"red\">++</font>, \n",
              "<br/>Jaksarz się niełą<font color=\"red\">++</font> tém <font color=\"red\">--</font>wnianéj, s tema<font color=\"red\">++</font> Prze<font color=\"red\">++</font> win<font color=\"red\">++</font> post<font color=\"red\">++</font>, \n",
              "<br/>Aż <font color=\"red\">--</font>szbawań <font color=\"red\">--</font>lił twarz społa dokanty <font color=\"red\">--</font>ra<font color=\"red\">++</font>, \n",
              "<br/>W <font color=\"red\">--</font>su <font color=\"red\">--</font>bun <font color=\"red\">--</font>łem od<font color=\"red\">++</font> łokłę<font color=\"red\">++</font> niego <font color=\"red\">--</font>rzę<font color=\"red\">++</font> niższ<font color=\"red\">++</font> w rozwa<font color=\"red\">++</font> w <font color=\"red\">--</font>łu, \n",
              "<br/>Sam od jac<font color=\"red\">++</font> tylgo kór<font color=\"red\">++</font> więc nie<font color=\"red\">++</font> obwie <font color=\"red\">--</font>ła <font color=\"red\">--</font>wniejjąc. \n",
              "<br/><font color=\"red\">--</font>Nął <font color=\"red\">--</font>dar<font color=\"red\">++</font>, je<font color=\"red\">++</font> na <font color=\"red\">--</font>kie się <font color=\"red\">--</font>ną coko za<font color=\"red\">++</font> z <font color=\"red\">--</font>Że, <font color=\"red\">--</font> Rozdarz Do<font color=\"red\">++</font> choć<font color=\"red\">++</font>? \n",
              "<br/><font color=\"red\">--</font>Ła pocił poczys<font color=\"red\">++</font> ta<font color=\"red\">++</font> budzi ka<font color=\"red\">++</font> recida <font color=\"red\">--</font>ni: \n",
              "<br/>Ró<font color=\"red\">++</font> kręni naściach po<font color=\"red\">++</font> roz<font color=\"red\">++</font> niech <font color=\"red\">--</font>daci<font color=\"red\">++</font>, i bóg du<font color=\"red\">++</font>. \n",
              "<br/>Myś<font color=\"red\">++</font> za<font color=\"red\">++</font>, pa<font color=\"red\">++</font> pełwie Ni <font color=\"red\">--</font>go zarym na <font color=\"red\">--</font>me<font color=\"red\">++</font>, \n",
              "<br/>Wy<font color=\"red\">++</font>, <font color=\"red\">--</font>gą bunie u<font color=\"red\">++</font> zała się się <font color=\"red\">--</font>strzamam, \n",
              "<br/><font color=\"red\">--</font>Ka wzrowa<font color=\"red\">++</font> téj <font color=\"red\">--</font>ła za <font color=\"red\">--</font>ku <font color=\"red\">--</font>nie, <font color=\"red\">--</font>sz<font color=\"red\">++</font> wy<font color=\"red\">++</font> po<font color=\"red\">++</font> lub <font color=\"red\">--</font>go <font color=\"red\">--</font>ta<font color=\"red\">++</font>; \n",
              "<br/>W to <font color=\"red\">--</font>li<font color=\"red\">++</font> wiezysko<font color=\"red\">++</font>, <font color=\"red\">--</font>deu<font color=\"red\">++</font> kęru<font color=\"red\">++</font> ma<font color=\"red\">++</font> był. \n",
              "<br/>\n",
              "<br/>, przero<font color=\"red\">++</font> dzier<font color=\"red\">++</font> bróz<font color=\"red\">++</font>, uli <font color=\"red\">--</font>ko<font color=\"red\">++</font> wasz <font color=\"red\">--</font>wło<font color=\"red\">++</font> motu<font color=\"red\">++</font>, \n",
              "<br/>Zaszo<font color=\"red\">++</font> u<font color=\"red\">++</font> zwyla<font color=\"red\">++</font> nała stała od <font color=\"red\">--</font>dy jedném <font color=\"red\">--</font>ry, \n",
              "<br/>W <font color=\"red\">--</font>wiesem za<font color=\"red\">++</font> zmiewi<font color=\"red\">++</font> pio<font color=\"red\">++</font>. \n",
              "<br/>Ko<font color=\"red\">++</font> łąk do<font color=\"red\">++</font> bra<font color=\"red\">++</font> się <font color=\"red\">--</font>stercz<font color=\"red\">++</font> przedza<font color=\"red\">++</font>, w <font color=\"red\">--</font>ku<font color=\"red\">++</font> ku<font color=\"red\">++</font> niedził: \n",
              "<br/>Pra<font color=\"red\">++</font> ciki <font color=\"red\">--</font>ka któ<font color=\"red\">++</font> Wła<font color=\"red\">++</font> posłu<font color=\"red\">++</font>, niedziezordz<font color=\"red\">++</font> zło<font color=\"red\">++</font>. \n",
              "<br/>Tyl<font color=\"red\">++</font> i załem pan <font color=\"red\">--</font>cz<font color=\"red\">++</font> po<font color=\"red\">++</font>, owna z <font color=\"red\">--</font>ta <font color=\"red\">--</font>mień sie<font color=\"red\">++</font>, Po<font color=\"red\">++</font>, służ<font color=\"red\">++</font>, strzel<font color=\"red\">++</font> nie <font color=\"red\">--</font>te <font color=\"red\">--</font>wy. \n",
              "<br/>Tane tu<font color=\"red\">++</font> prze<font color=\"red\">++</font>, nic lit<font color=\"red\">++</font> bo <font color=\"red\">--</font>ra<font color=\"red\">++</font> ni, przegali, \n",
              "<br/>Tak <font color=\"red\">--</font>cy, <font color=\"red\">--</font>łem <font color=\"red\">--</font>dziów <font color=\"red\">--</font>gi <font color=\"red\">--</font>es<font color=\"red\">++</font> już <font color=\"red\">--</font>cho<font color=\"red\">++</font>, pa<font color=\"red\">++</font>; da<font color=\"red\">++</font> dłu<font color=\"red\">++</font>. \n",
              "<br/>Jak <font color=\"red\">--</font>deusz <font color=\"red\">--</font>wet <font color=\"red\">--</font>ku tu ob<font color=\"red\">++</font>, boki <font color=\"red\">--</font>cał, <font color=\"red\">--</font>mego <font color=\"red\">--</font>ko. \n",
              "<br/>Gopo<font color=\"red\">++</font> by<font color=\"red\">++</font>, obia <font color=\"red\">--</font>li<font color=\"red\">++</font> rzecz uku tra<font color=\"red\">++</font> że <font color=\"red\">--</font>pieli \n",
              "<br/>I ma<font color=\"red\">++</font> po<font color=\"red\">++</font> sta<font color=\"red\">++</font> w czy<font color=\"red\">++</font> w i <font color=\"red\">--</font>pu<font color=\"red\">++</font>; <font color=\"red\">--</font>lu<font color=\"red\">++</font> jéj, przydzia; \n",
              "<br/>Głoła <font color=\"red\">--</font>ne jest <font color=\"red\">--</font>go <font color=\"red\">--</font>sta<font color=\"red\">++</font>, i, u<font color=\"red\">++</font> zwol<font color=\"red\">++</font> milka, s w <font color=\"red\">--</font>me<font color=\"red\">++</font>, \n",
              "<br/>Prze<font color=\"red\">++</font> garsta, w krzewi kra<font color=\"red\">++</font> za<font color=\"red\">++</font>, i na<font color=\"red\">++</font>, na a nie<font color=\"red\">++</font> zgo<font color=\"red\">++</font>, \n",
              "<br/>Te<font color=\"red\">++</font> jeko<font color=\"red\">++</font>, że w trąb<font color=\"red\">++</font> nad <font color=\"red\">--</font>na ty<font color=\"red\">++</font>, choć jak<font color=\"red\">++</font> się ruda <font color=\"red\">--</font>ły. \n",
              "<br/>Pra<font color=\"red\">++</font> się bez <font color=\"red\">--</font>nie od kiltniów staki nas z <font color=\"red\">--</font>cież <font color=\"red\">--</font>bia. \n",
              "<br/>Odcztach, prze<font color=\"red\">++</font> wy<font color=\"red\">++</font>, <font color=\"red\">--</font>nych biko <font color=\"red\">--</font>czy nich <font color=\"red\">--</font>li co żo<font color=\"red\">++</font>; \n",
              "<br/><font color=\"red\">--</font>Czy<font color=\"red\">++</font> w swój po<font color=\"red\">++</font> zacze bakirych, <font color=\"red\">--</font>raz <font color=\"red\">--</font>ste<font color=\"red\">++</font> przyre<font color=\"red\">++</font>, \n",
              "<br/>Koń<font color=\"red\">++</font>, <font color=\"red\">--</font>mo<font color=\"red\">++</font> i co, ta<font color=\"red\">++</font> to<font color=\"red\">++</font> ro<font color=\"red\">++</font>: nasz<font color=\"red\">++</font> nas u<font color=\"red\">++</font>; \n",
              "<br/>O<font color=\"red\">++</font> sług, ścia<font color=\"red\">++</font> te<font color=\"red\">++</font> sęnie pod <font color=\"red\">--</font>ra <font color=\"red\">--</font>wą <font color=\"red\">--</font>dźwiełem za<font color=\"red\">++</font> ku<font color=\"red\">++</font>, \n",
              "<br/>Na<font color=\"red\">++</font> choć w od za<font color=\"red\">++</font> s <font color=\"red\">--</font>scią<font color=\"red\">++</font> się pa<font color=\"red\">++</font>, tym, a Wiel<font color=\"red\">++</font> pan sa<font color=\"red\">++</font> ho<font color=\"red\">++</font>, \n",
              "<br/><font color=\"red\">--</font>Cz<font color=\"red\">++</font> o<font color=\"red\">++</font> i w takich i roz<font color=\"red\">++</font>, <font color=\"red\">--</font>Wą <font color=\"red\">--</font>bia, i ro<font color=\"red\">++</font>, w, dłu<font color=\"red\">++</font> je<font color=\"red\">++</font>,,, w mi jak<font color=\"red\">++</font>. \n",
              "<br/>Wy<font color=\"red\">++</font>, ta<font color=\"red\">++</font> nie<font color=\"red\">++</font> po<font color=\"red\">++</font> księwie <font color=\"red\">--</font>wać i <font color=\"red\">--</font>by s <font color=\"red\">--</font>mi sam, \n",
              "<br/>? gdy<font color=\"red\">++</font> ta<font color=\"red\">++</font> teśmie<font color=\"red\">++</font> wy<font color=\"red\">++</font>, się wi<font color=\"red\">++</font> e<font color=\"red\">++</font> żo<font color=\"red\">++</font>, \n",
              "<br/>Jak <font color=\"red\">--</font>ko <font color=\"red\">--</font>dy <font color=\"red\">--</font>nie <font color=\"red\">--</font>ną, w <font color=\"red\">--</font>sz<font color=\"red\">++</font> donie <font color=\"red\">--</font>kien<font color=\"red\">++</font> się bynia<font color=\"red\">++</font>, na<font color=\"red\">++</font>,, <font color=\"red\">--</font>dem lał na<font color=\"red\">++</font> świena, \n",
              "<br/>, że wszczął ro<font color=\"red\">++</font>"
            ],
            "text/plain": [
              "<IPython.core.display.HTML object>"
            ]
          },
          "metadata": {
            "tags": []
          }
        },
        {
          "output_type": "stream",
          "text": [
            "\n"
          ],
          "name": "stdout"
        },
        {
          "output_type": "stream",
          "text": [
            "\n",
            " 50%|#####     | 99/198 [01:06<01:18,  1.25it/s, epoch=1/1, loss=6.23, bw=0.369]\u001b[A\n",
            " 50%|#####     | 99/198 [01:06<01:18,  1.25it/s, epoch=1/1, loss=6.02, bw=0.324]\u001b[A\n",
            " 50%|#####     | 99/198 [01:07<01:18,  1.25it/s, epoch=1/1, loss=5.93, bw=0.333]\u001b[A\n",
            " 51%|#####1    | 101/198 [01:07<01:13,  1.33it/s, epoch=1/1, loss=5.93, bw=0.333]\u001b[A\n",
            " 51%|#####1    | 101/198 [01:08<01:13,  1.33it/s, epoch=1/1, loss=6.06, bw=0.306]\u001b[A\n",
            " 51%|#####1    | 101/198 [01:08<01:13,  1.33it/s, epoch=1/1, loss=6.05, bw=0.36] \u001b[A\n",
            " 52%|#####2    | 103/198 [01:08<01:08,  1.39it/s, epoch=1/1, loss=6.05, bw=0.36]\u001b[A\n",
            " 52%|#####2    | 103/198 [01:09<01:08,  1.39it/s, epoch=1/1, loss=5.82, bw=0.288]\u001b[A\n",
            " 52%|#####2    | 103/198 [01:09<01:08,  1.39it/s, epoch=1/1, loss=6.06, bw=0.288]\u001b[A\n",
            " 53%|#####3    | 105/198 [01:09<01:05,  1.43it/s, epoch=1/1, loss=6.06, bw=0.288]\u001b[A\n",
            " 53%|#####3    | 105/198 [01:10<01:05,  1.43it/s, epoch=1/1, loss=5.94, bw=0.342]\u001b[A\n",
            " 53%|#####3    | 105/198 [01:11<01:05,  1.43it/s, epoch=1/1, loss=5.96, bw=0.288]\u001b[A\n",
            " 54%|#####4    | 107/198 [01:11<01:02,  1.46it/s, epoch=1/1, loss=5.96, bw=0.288]\u001b[A\n",
            " 54%|#####4    | 107/198 [01:11<01:02,  1.46it/s, epoch=1/1, loss=5.87, bw=0.36] \u001b[A\n",
            " 54%|#####4    | 107/198 [01:12<01:02,  1.46it/s, epoch=1/1, loss=5.89, bw=0.315]\u001b[A\n",
            " 55%|#####5    | 109/198 [01:12<00:59,  1.49it/s, epoch=1/1, loss=5.89, bw=0.315]\u001b[A\n",
            " 55%|#####5    | 109/198 [01:13<00:59,  1.49it/s, epoch=1/1, loss=6.05, bw=0.288]\u001b[A\n",
            " 55%|#####5    | 109/198 [01:13<00:59,  1.49it/s, epoch=1/1, loss=5.91, bw=0.36] \u001b[A\n",
            " 56%|#####6    | 111/198 [01:13<00:57,  1.51it/s, epoch=1/1, loss=5.91, bw=0.36]\u001b[A\n",
            " 56%|#####6    | 111/198 [01:14<00:57,  1.51it/s, epoch=1/1, loss=6.37, bw=0.342]\u001b[A\n",
            " 56%|#####6    | 111/198 [01:15<00:57,  1.51it/s, epoch=1/1, loss=5.85, bw=0.324]\u001b[A\n",
            " 57%|#####7    | 113/198 [01:15<00:55,  1.52it/s, epoch=1/1, loss=5.85, bw=0.324]\u001b[A\n",
            " 57%|#####7    | 113/198 [01:15<00:55,  1.52it/s, epoch=1/1, loss=5.84, bw=0.342]\u001b[A\n",
            " 57%|#####7    | 113/198 [01:16<00:55,  1.52it/s, epoch=1/1, loss=5.96, bw=0.324]\u001b[A\n",
            " 58%|#####8    | 115/198 [01:16<00:54,  1.53it/s, epoch=1/1, loss=5.96, bw=0.324]\u001b[A\n",
            " 58%|#####8    | 115/198 [01:17<00:54,  1.53it/s, epoch=1/1, loss=5.94, bw=0.297]\u001b[A\n",
            " 58%|#####8    | 115/198 [01:17<00:54,  1.53it/s, epoch=1/1, loss=5.94, bw=0.252]\u001b[A\n",
            " 59%|#####9    | 117/198 [01:17<00:53,  1.53it/s, epoch=1/1, loss=5.94, bw=0.252]\u001b[A\n",
            " 59%|#####9    | 117/198 [01:18<00:53,  1.53it/s, epoch=1/1, loss=5.89, bw=0.243]\u001b[A\n",
            " 59%|#####9    | 117/198 [01:19<00:53,  1.53it/s, epoch=1/1, loss=5.6, bw=0.207] \u001b[A\n",
            " 60%|######    | 119/198 [01:19<00:51,  1.53it/s, epoch=1/1, loss=5.6, bw=0.207]\u001b[A\n",
            " 60%|######    | 119/198 [01:19<00:51,  1.53it/s, epoch=1/1, loss=5.76, bw=0.27]\u001b[A\n",
            " 60%|######    | 119/198 [01:20<00:51,  1.53it/s, epoch=1/1, loss=6.01, bw=0.207]\u001b[A\n",
            " 61%|######1   | 121/198 [01:20<00:50,  1.53it/s, epoch=1/1, loss=6.01, bw=0.207]\u001b[A\n",
            " 61%|######1   | 121/198 [01:20<00:50,  1.53it/s, epoch=1/1, loss=5.47, bw=0.252]\u001b[A\n",
            " 61%|######1   | 121/198 [01:21<00:50,  1.53it/s, epoch=1/1, loss=6.06, bw=0.27] \u001b[A\n",
            " 62%|######2   | 123/198 [01:21<00:49,  1.53it/s, epoch=1/1, loss=6.06, bw=0.27]\u001b[A\n",
            " 62%|######2   | 123/198 [01:22<00:49,  1.53it/s, epoch=1/1, loss=5.99, bw=0.279]\u001b[A\n",
            " 62%|######2   | 123/198 [01:22<00:49,  1.53it/s, epoch=1/1, loss=5.94, bw=0.18] \u001b[A\n",
            " 63%|######3   | 125/198 [01:22<00:47,  1.54it/s, epoch=1/1, loss=5.94, bw=0.18]\u001b[A\n",
            " 63%|######3   | 125/198 [01:23<00:47,  1.54it/s, epoch=1/1, loss=5.8, bw=0.18] \u001b[A\n",
            " 63%|######3   | 125/198 [01:24<00:47,  1.54it/s, epoch=1/1, loss=5.76, bw=0.189]\u001b[A\n",
            " 64%|######4   | 127/198 [01:24<00:46,  1.54it/s, epoch=1/1, loss=5.76, bw=0.189]\u001b[A\n",
            " 64%|######4   | 127/198 [01:24<00:46,  1.54it/s, epoch=1/1, loss=6.04, bw=0.18] \u001b[A\n",
            " 64%|######4   | 127/198 [01:25<00:46,  1.54it/s, epoch=1/1, loss=5.98, bw=0.225]\u001b[A\n",
            " 65%|######5   | 129/198 [01:25<00:44,  1.54it/s, epoch=1/1, loss=5.98, bw=0.225]\u001b[A\n",
            " 65%|######5   | 129/198 [01:26<00:44,  1.54it/s, epoch=1/1, loss=5.8, bw=0.216] \u001b[A\n",
            " 65%|######5   | 129/198 [01:26<00:44,  1.54it/s, epoch=1/1, loss=5.47, bw=0.378]\u001b[A\n",
            " 66%|######6   | 131/198 [01:26<00:43,  1.54it/s, epoch=1/1, loss=5.47, bw=0.378]\u001b[A\n",
            " 66%|######6   | 131/198 [01:27<00:43,  1.54it/s, epoch=1/1, loss=5.96, bw=0.207]\u001b[A\n",
            " 66%|######6   | 131/198 [01:28<00:43,  1.54it/s, epoch=1/1, loss=5.62, bw=0.207]\u001b[A\n",
            " 67%|######7   | 133/198 [01:28<00:42,  1.54it/s, epoch=1/1, loss=5.62, bw=0.207]\u001b[A\n",
            " 67%|######7   | 133/198 [01:28<00:42,  1.54it/s, epoch=1/1, loss=5.76, bw=0.135]\u001b[A\n",
            " 67%|######7   | 133/198 [01:29<00:42,  1.54it/s, epoch=1/1, loss=5.74, bw=0.162]\u001b[A\n",
            " 68%|######8   | 135/198 [01:29<00:41,  1.53it/s, epoch=1/1, loss=5.74, bw=0.162]\u001b[A\n",
            " 68%|######8   | 135/198 [01:30<00:41,  1.53it/s, epoch=1/1, loss=5.62, bw=0.198]\u001b[A\n",
            " 68%|######8   | 135/198 [01:30<00:41,  1.53it/s, epoch=1/1, loss=5.83, bw=0.216]\u001b[A\n",
            " 69%|######9   | 137/198 [01:30<00:39,  1.53it/s, epoch=1/1, loss=5.83, bw=0.216]\u001b[A\n",
            " 69%|######9   | 137/198 [01:31<00:39,  1.53it/s, epoch=1/1, loss=5.82, bw=0.207]\u001b[A\n",
            " 69%|######9   | 137/198 [01:31<00:39,  1.53it/s, epoch=1/1, loss=5.84, bw=0.108]\u001b[A\n",
            " 70%|#######   | 139/198 [01:31<00:38,  1.54it/s, epoch=1/1, loss=5.84, bw=0.108]\u001b[A\n",
            " 70%|#######   | 139/198 [01:32<00:38,  1.54it/s, epoch=1/1, loss=5.7, bw=0.207] \u001b[A\n",
            " 70%|#######   | 139/198 [01:33<00:38,  1.54it/s, epoch=1/1, loss=5.93, bw=0.18]\u001b[A\n",
            " 71%|#######1  | 141/198 [01:33<00:36,  1.54it/s, epoch=1/1, loss=5.93, bw=0.18]\u001b[A\n",
            " 71%|#######1  | 141/198 [01:33<00:36,  1.54it/s, epoch=1/1, loss=5.83, bw=0.207]\u001b[A\n",
            " 71%|#######1  | 141/198 [01:34<00:36,  1.54it/s, epoch=1/1, loss=5.87, bw=0.198]\u001b[A\n",
            " 72%|#######2  | 143/198 [01:34<00:35,  1.55it/s, epoch=1/1, loss=5.87, bw=0.198]\u001b[A\n",
            " 72%|#######2  | 143/198 [01:35<00:35,  1.55it/s, epoch=1/1, loss=5.86, bw=0.189]\u001b[A\n",
            " 72%|#######2  | 143/198 [01:35<00:35,  1.55it/s, epoch=1/1, loss=5.79, bw=0.261]\u001b[A\n",
            " 73%|#######3  | 145/198 [01:35<00:34,  1.55it/s, epoch=1/1, loss=5.79, bw=0.261]\u001b[A\n",
            " 73%|#######3  | 145/198 [01:36<00:34,  1.55it/s, epoch=1/1, loss=5.8, bw=0.171] \u001b[A\n",
            " 73%|#######3  | 145/198 [01:37<00:34,  1.55it/s, epoch=1/1, loss=5.5, bw=0.198]\u001b[A\n",
            " 74%|#######4  | 147/198 [01:37<00:33,  1.54it/s, epoch=1/1, loss=5.5, bw=0.198]\u001b[A\n",
            " 74%|#######4  | 147/198 [01:37<00:33,  1.54it/s, epoch=1/1, loss=5.56, bw=0.126]\u001b[A\n",
            " 74%|#######4  | 147/198 [01:38<00:33,  1.54it/s, epoch=1/1, loss=5.81, bw=0.162]\u001b[A\n",
            " 75%|#######5  | 149/198 [01:38<00:31,  1.53it/s, epoch=1/1, loss=5.81, bw=0.162]\u001b[A\n",
            " 75%|#######5  | 149/198 [01:39<00:31,  1.53it/s, epoch=1/1, loss=5.6, bw=0.162] \u001b[A\n",
            " 75%|#######5  | 149/198 [01:39<00:31,  1.53it/s, epoch=1/1, loss=5.66, bw=0.189]\u001b[A\n",
            " 76%|#######6  | 151/198 [01:39<00:30,  1.54it/s, epoch=1/1, loss=5.66, bw=0.189]\u001b[A\n",
            " 76%|#######6  | 151/198 [01:40<00:30,  1.54it/s, epoch=1/1, loss=5.77, bw=0.171]\u001b[A\n",
            " 76%|#######6  | 151/198 [01:41<00:30,  1.54it/s, epoch=1/1, loss=5.41, bw=0.117]\u001b[A\n",
            " 77%|#######7  | 153/198 [01:41<00:29,  1.54it/s, epoch=1/1, loss=5.41, bw=0.117]\u001b[A\n",
            " 77%|#######7  | 153/198 [01:41<00:29,  1.54it/s, epoch=1/1, loss=5.35, bw=0.126]\u001b[A\n",
            " 77%|#######7  | 153/198 [01:42<00:29,  1.54it/s, epoch=1/1, loss=5.52, bw=0.135]\u001b[A\n",
            " 78%|#######8  | 155/198 [01:42<00:27,  1.54it/s, epoch=1/1, loss=5.52, bw=0.135]\u001b[A\n",
            " 78%|#######8  | 155/198 [01:43<00:27,  1.54it/s, epoch=1/1, loss=5.33, bw=0.162]\u001b[A\n",
            " 78%|#######8  | 155/198 [01:43<00:27,  1.54it/s, epoch=1/1, loss=5.49, bw=0.162]\u001b[A\n",
            " 79%|#######9  | 157/198 [01:43<00:26,  1.54it/s, epoch=1/1, loss=5.49, bw=0.162]\u001b[A\n",
            " 79%|#######9  | 157/198 [01:44<00:26,  1.54it/s, epoch=1/1, loss=5.73, bw=0.171]\u001b[A\n",
            " 79%|#######9  | 157/198 [01:44<00:26,  1.54it/s, epoch=1/1, loss=5.5, bw=0.207] \u001b[A\n",
            " 80%|########  | 159/198 [01:44<00:25,  1.54it/s, epoch=1/1, loss=5.5, bw=0.207]\u001b[A\n",
            " 80%|########  | 159/198 [01:45<00:25,  1.54it/s, epoch=1/1, loss=5.5, bw=0.126]\u001b[A\n",
            " 80%|########  | 159/198 [01:46<00:25,  1.54it/s, epoch=1/1, loss=5.5, bw=0.171]\u001b[A\n",
            " 81%|########1 | 161/198 [01:46<00:23,  1.54it/s, epoch=1/1, loss=5.5, bw=0.171]\u001b[A\n",
            " 81%|########1 | 161/198 [01:46<00:23,  1.54it/s, epoch=1/1, loss=5.84, bw=0.153]\u001b[A\n",
            " 81%|########1 | 161/198 [01:47<00:23,  1.54it/s, epoch=1/1, loss=5.3, bw=0.117] \u001b[A\n",
            " 82%|########2 | 163/198 [01:47<00:22,  1.54it/s, epoch=1/1, loss=5.3, bw=0.117]\u001b[A\n",
            " 82%|########2 | 163/198 [01:48<00:22,  1.54it/s, epoch=1/1, loss=5.37, bw=0.189]\u001b[A\n",
            " 82%|########2 | 163/198 [01:48<00:22,  1.54it/s, epoch=1/1, loss=5.54, bw=0.144]\u001b[A\n",
            " 83%|########3 | 165/198 [01:48<00:21,  1.53it/s, epoch=1/1, loss=5.54, bw=0.144]\u001b[A\n",
            " 83%|########3 | 165/198 [01:49<00:21,  1.53it/s, epoch=1/1, loss=5.73, bw=0.117]\u001b[A\n",
            " 83%|########3 | 165/198 [01:50<00:21,  1.53it/s, epoch=1/1, loss=5.52, bw=0.189]\u001b[A\n",
            " 84%|########4 | 167/198 [01:50<00:20,  1.54it/s, epoch=1/1, loss=5.52, bw=0.189]\u001b[A\n",
            " 84%|########4 | 167/198 [01:50<00:20,  1.54it/s, epoch=1/1, loss=6.13, bw=0.126]\u001b[A\n",
            " 84%|########4 | 167/198 [01:51<00:20,  1.54it/s, epoch=1/1, loss=5.28, bw=0.0991]\u001b[A\n",
            " 85%|########5 | 169/198 [01:51<00:18,  1.55it/s, epoch=1/1, loss=5.28, bw=0.0991]\u001b[A\n",
            " 85%|########5 | 169/198 [01:52<00:18,  1.55it/s, epoch=1/1, loss=5.8, bw=0.126]  \u001b[A\n",
            " 85%|########5 | 169/198 [01:52<00:18,  1.55it/s, epoch=1/1, loss=5.85, bw=0.126]\u001b[A\n",
            " 86%|########6 | 171/198 [01:52<00:17,  1.54it/s, epoch=1/1, loss=5.85, bw=0.126]\u001b[A\n",
            " 86%|########6 | 171/198 [01:53<00:17,  1.54it/s, epoch=1/1, loss=5.42, bw=0.117]\u001b[A\n",
            " 86%|########6 | 171/198 [01:54<00:17,  1.54it/s, epoch=1/1, loss=5.26, bw=0.0901]\u001b[A\n",
            " 87%|########7 | 173/198 [01:54<00:16,  1.54it/s, epoch=1/1, loss=5.26, bw=0.0901]\u001b[A\n",
            " 87%|########7 | 173/198 [01:54<00:16,  1.54it/s, epoch=1/1, loss=5.94, bw=0.108] \u001b[A\n",
            " 87%|########7 | 173/198 [01:55<00:16,  1.54it/s, epoch=1/1, loss=5.55, bw=0.0901]\u001b[A\n",
            " 88%|########8 | 175/198 [01:55<00:14,  1.54it/s, epoch=1/1, loss=5.55, bw=0.0901]\u001b[A\n",
            " 88%|########8 | 175/198 [01:55<00:14,  1.54it/s, epoch=1/1, loss=5.22, bw=0.171] \u001b[A\n",
            " 88%|########8 | 175/198 [01:56<00:14,  1.54it/s, epoch=1/1, loss=5.76, bw=0.117]\u001b[A\n",
            " 89%|########9 | 177/198 [01:56<00:13,  1.54it/s, epoch=1/1, loss=5.76, bw=0.117]\u001b[A\n",
            " 89%|########9 | 177/198 [01:57<00:13,  1.54it/s, epoch=1/1, loss=5.38, bw=0.162]\u001b[A\n",
            " 89%|########9 | 177/198 [01:57<00:13,  1.54it/s, epoch=1/1, loss=5.69, bw=0.0901]\u001b[A\n",
            " 90%|######### | 179/198 [01:57<00:12,  1.54it/s, epoch=1/1, loss=5.69, bw=0.0901]\u001b[A\n",
            " 90%|######### | 179/198 [01:58<00:12,  1.54it/s, epoch=1/1, loss=5.84, bw=0.171] \u001b[A\n",
            " 90%|######### | 179/198 [01:59<00:12,  1.54it/s, epoch=1/1, loss=5.54, bw=0.0991]\u001b[A\n",
            " 91%|#########1| 181/198 [01:59<00:11,  1.53it/s, epoch=1/1, loss=5.54, bw=0.0991]\u001b[A\n",
            " 91%|#########1| 181/198 [01:59<00:11,  1.53it/s, epoch=1/1, loss=5.62, bw=0.117] \u001b[A\n",
            " 91%|#########1| 181/198 [02:00<00:11,  1.53it/s, epoch=1/1, loss=5.93, bw=0.0991]\u001b[A\n",
            " 92%|#########2| 183/198 [02:00<00:09,  1.53it/s, epoch=1/1, loss=5.93, bw=0.0991]\u001b[A\n",
            " 92%|#########2| 183/198 [02:01<00:09,  1.53it/s, epoch=1/1, loss=5.49, bw=0.144] \u001b[A\n",
            " 92%|#########2| 183/198 [02:01<00:09,  1.53it/s, epoch=1/1, loss=5.09, bw=0.0631]\u001b[A\n",
            " 93%|#########3| 185/198 [02:01<00:08,  1.54it/s, epoch=1/1, loss=5.09, bw=0.0631]\u001b[A\n",
            " 93%|#########3| 185/198 [02:02<00:08,  1.54it/s, epoch=1/1, loss=5.43, bw=0.0811]\u001b[A\n",
            " 93%|#########3| 185/198 [02:03<00:08,  1.54it/s, epoch=1/1, loss=5.66, bw=0.135] \u001b[A\n",
            " 94%|#########4| 187/198 [02:03<00:07,  1.54it/s, epoch=1/1, loss=5.66, bw=0.135]\u001b[A\n",
            " 94%|#########4| 187/198 [02:03<00:07,  1.54it/s, epoch=1/1, loss=5.64, bw=0.108]\u001b[A\n",
            " 94%|#########4| 187/198 [02:04<00:07,  1.54it/s, epoch=1/1, loss=5.35, bw=0.036]\u001b[A\n",
            " 95%|#########5| 189/198 [02:04<00:05,  1.54it/s, epoch=1/1, loss=5.35, bw=0.036]\u001b[A\n",
            " 95%|#########5| 189/198 [02:05<00:05,  1.54it/s, epoch=1/1, loss=5.81, bw=0.135]\u001b[A\n",
            " 95%|#########5| 189/198 [02:05<00:05,  1.54it/s, epoch=1/1, loss=5.69, bw=0.108]\u001b[A\n",
            " 96%|#########6| 191/198 [02:05<00:04,  1.53it/s, epoch=1/1, loss=5.69, bw=0.108]\u001b[A\n",
            " 96%|#########6| 191/198 [02:06<00:04,  1.53it/s, epoch=1/1, loss=5.52, bw=0.144]\u001b[A\n",
            " 96%|#########6| 191/198 [02:07<00:04,  1.53it/s, epoch=1/1, loss=5.23, bw=0.135]\u001b[A\n",
            " 97%|#########7| 193/198 [02:07<00:03,  1.53it/s, epoch=1/1, loss=5.23, bw=0.135]\u001b[A\n",
            " 97%|#########7| 193/198 [02:07<00:03,  1.53it/s, epoch=1/1, loss=5.63, bw=0.108]\u001b[A\n",
            " 97%|#########7| 193/198 [02:08<00:03,  1.53it/s, epoch=1/1, loss=5.37, bw=0.117]\u001b[A\n",
            " 98%|#########8| 195/198 [02:08<00:01,  1.52it/s, epoch=1/1, loss=5.37, bw=0.117]\u001b[A\n",
            " 98%|#########8| 195/198 [02:09<00:01,  1.52it/s, epoch=1/1, loss=5.44, bw=0.0901]\u001b[A\n",
            " 98%|#########8| 195/198 [02:09<00:01,  1.52it/s, epoch=1/1, loss=5.44, bw=0.045] \u001b[A\n",
            " 99%|#########9| 197/198 [02:09<00:00,  1.52it/s, epoch=1/1, loss=5.44, bw=0.045]\u001b[A\n",
            " 99%|#########9| 197/198 [02:10<00:00,  1.52it/s, epoch=2/1, loss=5.42, bw=0.0721]\u001b[A"
          ],
          "name": "stderr"
        },
        {
          "output_type": "stream",
          "text": [
            "\n",
            "[2m 10s (2 198 100%) loss=5.4151 bw=0.0821]\n"
          ],
          "name": "stdout"
        },
        {
          "output_type": "display_data",
          "data": {
            "text/html": [
              "Litwo! Ojczyzno moja! \n",
              "<br/>Sa<font color=\"red\">++</font> pierś Wszyne słumy <font color=\"red\">--</font>wniawada<font color=\"red\">++</font>: Przerokiem. \n",
              "<br/>\n",
              "<br/>Bo czękufa<font color=\"red\">++</font>, ta<font color=\"red\">++</font> załorą, i do i rata, \n",
              "<br/>A poracy Wieść Sęrza Pan A owiddzenie, \n",
              "<br/>Krzywet nacież z Słylszcze do to wilła; \n",
              "<br/>W niega<font color=\"red\">++</font> wiel<font color=\"red\">++</font> się Dłu<font color=\"red\">++</font> do ubin brał jedzi, \n",
              "<br/>To <font color=\"red\">--</font>deusz narium <font color=\"red\">--</font>na przele i obna powne <font color=\"red\">--</font>sem, \n",
              "<br/>Tylcy się Nią jak krowrót kom<font color=\"red\">++</font> grzeby i za <font color=\"red\">--</font>zem, \n",
              "<br/>\n",
              "<br/>Hrało Wyko<font color=\"red\">++</font> wygo, paży widzi ugali: \n",
              "<br/>Ich Ta<font color=\"red\">++</font> kana. \n",
              "<br/>\n",
              "<br/>Oblizał ołym, pan, wszys<font color=\"red\">++</font> do z że zwiedzi. \n",
              "<br/>Znoną Trze<font color=\"red\">++</font> Wojna <font color=\"red\">--</font>ne<font color=\"red\">++</font> drob<font color=\"red\">++</font> omia<font color=\"red\">++</font>: \n",
              "<br/>A I w pokuło piedogo wpadgim, \n",
              "<br/>Słudu, podgaszna za<font color=\"red\">++</font> ją Bezli gającę. \n",
              "<br/>Ale <font color=\"red\">--</font> Ja Spadtwym co<font color=\"red\">++</font>, palmiany na <font color=\"red\">--</font>ćka <font color=\"red\">--</font>jem<font color=\"red\">++</font>. \n",
              "<br/>\n",
              "<br/>Roz<font color=\"red\">++</font> praw się \n",
              "<br/>Odczamo<font color=\"red\">++</font>, pęmożków, po<font color=\"red\">++</font> znę<font color=\"red\">++</font> biaże, \n",
              "<br/>Zokoła, hrajłem ragień radzi; Pa<font color=\"red\">++</font>! \n",
              "<br/>Porzniem na dość <font color=\"red\">--</font>ło stobia zamek powanie, \n",
              "<br/>Sęgał mu wydydził <font color=\"red\">--</font>ło o zmy<font color=\"red\">++</font> o durawy. \n",
              "<br/>\n",
              "<br/>I Nielesza Pawie, znikdym, hralinach \n",
              "<br/>Wiel<font color=\"red\">++</font> zboki się krobu<font color=\"red\">++</font>, czas, wyweło. \n",
              "<br/>Za Są częku się My Zacy, dasana Odwarli \n",
              "<br/>Poczę Hrawako na nim zbyt poreno w enina, \n",
              "<br/>Po re<font color=\"red\">++</font> Posłszy przedzi bobieliła w mnó<font color=\"red\">++</font> \n",
              "<br/>Słulimi czypali, padziano, \n",
              "<br/>Je pan Ja gorzéj <font color=\"red\">--</font>ża, zwano <font color=\"red\">--</font> Choć Nakój to ręwie, \n",
              "<br/>Koki ca<font color=\"red\">++</font> rę<font color=\"red\">++</font>, pała, czu<font color=\"red\">++</font> ale Teny. \n",
              "<br/>\n",
              "<br/>Nano tak Bydzi i tak ładzi, uleną \n",
              "<br/>To To Ni<font color=\"red\">++</font> W wyrago za<font color=\"red\">++</font> pierś? podkę. \n",
              "<br/>« Tu to <font color=\"red\">--</font>raz Jąd<font color=\"red\">++</font> Wykąż <font color=\"red\">--</font>milgo Czło<font color=\"red\">++</font> w hraca stro<font color=\"red\">++</font>, \n",
              "<br/>Wielina za<font color=\"red\">++</font> końłem poni, miestagda, \n",
              "<br/>Oją Sędzia, w Asza, powet wparnąć jak po kul <font color=\"red\">--</font>czył. \n",
              "<br/>Olirano to koca wyki stobie<font color=\"red\">++</font>, \n",
              "<br/>I Przylibiena w ugo kratałem, \n",
              "<br/>Asma<font color=\"red\">++</font>: porę<font color=\"red\">++</font>, gękien Nad owiegu, \n",
              "<br/>I To Spał <font color=\"red\">--</font>liując ręs<font color=\"red\">++</font>, z pokrut zedana. \n",
              "<br/>Przy <font color=\"red\">--</font>stce On tyjąc jeźną na lecz sarborzęle \n",
              "<br/>Hraścine<font color=\"red\">++</font> rusza, chojach poniec zadzież, \n",
              "<br/>Nie Pan Nobiła paleła, to z <font color=\"red\">--</font>Tro Wojnych. \n",
              "<br/>On tymdzia Bo nie <font color=\"red\">--</font> Nad W na zdadek, dłulirza, \n",
              "<br/>Wojra, jak tak Nad i strzedała, z Rowiódł <font color=\"red\">--</font>bra, \n",
              "<br/>Źle, choć Gdy Donów zastrze<font color=\"red\">++</font> złemał tak wypawa<font color=\"red\">++</font>. \n",
              "<br/>Ole zajedła Zdu<font color=\"red\">++</font> z niełóty <font color=\"red\">--</font>ła, \n",
              "<br/>Ocholije odziéć, kto naglągo Téj Wyje<font color=\"red\">++</font>, \n",
              "<br/>\n",
              "<br/>na teli<font color=\"red\">++</font> strona izki, doraczył, \n",
              "<br/>Wydziejąc ośli<font color=\"red\">++</font> się Sony i co Proków \n",
              "<br/>Proraz, pije Podłych? jak ucy Gdzie doki, \n",
              "<br/>Sam Gdy Pan To Ja nie przewąd żyła; \n",
              "<br/>Sębia Ta<font color=\"red\">++</font> Duwo A była wieldzy i paca \n",
              "<br/>Oko Że Nieliligo I Dob<font color=\"red\">++</font> kie<font color=\"red\">++</font>, od w to gnieczany, \n",
              "<br/>I fidci, o tatb<font color=\"red\">++</font> młocy nie przyni \n",
              "<br/>Uma, lub prana zeła się się wy<font color=\"red\">++</font> dwojwoje. \n",
              "<br/>A I stasto, wiel<font color=\"red\">++</font> w w <font color=\"red\">--</font>dzia Aż przydziłam czana \n",
              "<br/>Dwóch Ale widać, bynie nadział, panciła, \n",
              "<br/>W uwrózwoi<font color=\"red\">++</font>? Do? Wieje, przemamy, \n",
              "<br/>Wsparł Się Stryj <font color=\"red\">--</font>ce kona, te<font color=\"red\">++</font> wy<font color=\"red\">++</font> w dłumoje, \n",
              "<br/>Przy Na Pochem, Wyli, uwie<font color=\"red\">++</font> z się zadrózuje. \n",
              "<br/>\n",
              "<br/>Zanoga, poprzód, i <font color=\"red\">--</font>ki Poło to"
            ],
            "text/plain": [
              "<IPython.core.display.HTML object>"
            ]
          },
          "metadata": {
            "tags": []
          }
        },
        {
          "output_type": "stream",
          "text": [
            "\n"
          ],
          "name": "stdout"
        },
        {
          "output_type": "stream",
          "text": [
            "\n",
            "100%|##########| 198/198 [02:11<00:00,  1.03it/s, epoch=2/1, loss=5.42, bw=0.0721]\u001b[A\n",
            "                                                                                  \u001b[A"
          ],
          "name": "stderr"
        }
      ]
    },
    {
      "cell_type": "markdown",
      "metadata": {
        "id": "dXrPD94SXM5m"
      },
      "source": [
        "### Kreślenie wartości straty\n",
        "\n",
        "Wykreślanie historii straty z `all_losses` pokazuje uczenie sieci:"
      ]
    },
    {
      "cell_type": "code",
      "metadata": {
        "id": "meKCxPo3XM5n",
        "outputId": "275ead7d-ed37-4b0c-a6cd-6c099c5820aa",
        "colab": {
          "base_uri": "https://localhost:8080/",
          "height": 442
        }
      },
      "source": [
        "plt.figure()\n",
        "plt.plot(all_losses)"
      ],
      "execution_count": null,
      "outputs": [
        {
          "output_type": "execute_result",
          "data": {
            "text/plain": [
              "[<matplotlib.lines.Line2D at 0x7fe1f8b06128>]"
            ]
          },
          "metadata": {
            "tags": []
          },
          "execution_count": 60
        },
        {
          "output_type": "display_data",
          "data": {
            "image/png": "[encoded data removed]",
            "text/plain": [
              "<Figure size 640x480 with 1 Axes>"
            ]
          },
          "metadata": {
            "tags": []
          }
        }
      ]
    },
    {
      "cell_type": "markdown",
      "metadata": {
        "id": "WabkwPqZ5WlH"
      },
      "source": [
        "### Zapis i odczyt sieci"
      ]
    },
    {
      "cell_type": "markdown",
      "metadata": {
        "id": "EtK-9BuuB-GX"
      },
      "source": [
        "#### Zapisanie sieci"
      ]
    },
    {
      "cell_type": "code",
      "metadata": {
        "id": "aSA3Utpc6dXV",
        "outputId": "b86c73b3-dc21-4a94-b706-7c67c9c52bd2",
        "colab": {
          "base_uri": "https://localhost:8080/"
        }
      },
      "source": [
        "# n_epochs=15\n",
        "\n",
        "ALLTOKS, MODEL = ['all_tokens', 'model']\n",
        "fn_pan_tadeusz = {ALLTOKS: f'all_tokens.n{n_tokens}.pan_tadeusz.p', \n",
        "                  MODEL: f'pan_tadeusz.h{hidden_size}.l{n_layers}.e{n_epochs}.gpu.torch'}\n",
        "fn_dict = fn_pan_tadeusz; fn_dict"
      ],
      "execution_count": null,
      "outputs": [
        {
          "output_type": "execute_result",
          "data": {
            "text/plain": [
              "{'all_tokens': 'all_tokens.n5059.pan_tadeusz.p',\n",
              " 'model': 'pan_tadeusz.h500.l3.e1.gpu.torch'}"
            ]
          },
          "metadata": {
            "tags": []
          },
          "execution_count": 61
        }
      ]
    },
    {
      "cell_type": "code",
      "metadata": {
        "id": "XJ-j5_4I6d0g"
      },
      "source": [
        "# save all_tokens\n",
        "all_tokens_path = tmp_path / fn_dict[ALLTOKS]\n",
        "pickle.dump(all_tokens, open(all_tokens_path, 'wb'))\n",
        "\n",
        "warnings.filterwarnings('ignore')\n",
        "\n",
        "# save model\n",
        "model_path = tmp_path / fn_dict[MODEL]\n",
        "torch.save(decoder, model_path)"
      ],
      "execution_count": null,
      "outputs": []
    },
    {
      "cell_type": "code",
      "metadata": {
        "id": "Dt8_7GshWi4M",
        "outputId": "e099516c-f431-419b-e533-4454852e2544",
        "colab": {
          "base_uri": "https://localhost:8080/"
        }
      },
      "source": [
        "ls -lah $tmp_path"
      ],
      "execution_count": null,
      "outputs": [
        {
          "output_type": "stream",
          "text": [
            "total 106M\n",
            "drwxr-xr-x 2 root root 4.0K Nov 14 12:02 \u001b[0m\u001b[01;34m.\u001b[0m/\n",
            "drwxr-xr-x 3 root root 4.0K Nov 14 11:55 \u001b[01;34m..\u001b[0m/\n",
            "-rw-r--r-- 1 root root  63K Nov 14 11:53 all_tokens.n4064.witkacy_szewcy.p\n",
            "-rw-r--r-- 1 root root  80K Nov 14 12:02 all_tokens.n5059.pan_tadeusz.p\n",
            "-rw-r--r-- 1 root root 5.2K Nov 14 12:01 e_syl.txt\n",
            "-rw-r--r-- 1 root root  37M Nov 14 12:02 pan_tadeusz.h500.l3.e1.gpu.torch\n",
            "-rw-r--r-- 1 root root  37M Nov 14 11:53 pan_tadeusz.h500.l3.e20.gpu.torch\n",
            "-rw-r--r-- 1 root root   35 Nov 14 11:59 tmp_text_caps1.txt\n",
            "-rw-r--r-- 1 root root   56 Nov 14 11:59 tmp_text_syl1.txt\n",
            "-rw-r--r-- 1 root root  33M Nov 14 11:53 witkacy_szewcy.h500.l3.e11.gpu.torch\n"
          ],
          "name": "stdout"
        }
      ]
    },
    {
      "cell_type": "code",
      "metadata": {
        "id": "qHbGgVULB_cp",
        "outputId": "456852fa-7529-4bbb-f7b1-d8023e5f1553",
        "colab": {
          "base_uri": "https://localhost:8080/"
        }
      },
      "source": [
        "decoder.state_dict"
      ],
      "execution_count": null,
      "outputs": [
        {
          "output_type": "execute_result",
          "data": {
            "text/plain": [
              "<bound method Module.state_dict of RNN(\n",
              "  (encoder): Embedding(5059, 500)\n",
              "  (gru): GRU(500, 500, num_layers=3)\n",
              "  (decoder): Linear(in_features=500, out_features=5059, bias=True)\n",
              ")>"
            ]
          },
          "metadata": {
            "tags": []
          },
          "execution_count": 64
        }
      ]
    },
    {
      "cell_type": "markdown",
      "metadata": {
        "id": "BalhBXFKfErp"
      },
      "source": [
        "#### Załadowanie sieci"
      ]
    },
    {
      "cell_type": "code",
      "metadata": {
        "id": "hk7EWQXmgfdB",
        "outputId": "9e6b8312-8ee4-4ceb-8eb9-d07aa0ec7d40",
        "colab": {
          "base_uri": "https://localhost:8080/"
        }
      },
      "source": [
        "ls -lah $tmp_path"
      ],
      "execution_count": null,
      "outputs": [
        {
          "output_type": "stream",
          "text": [
            "total 106M\n",
            "drwxr-xr-x 2 root root 4.0K Nov 14 12:02 \u001b[0m\u001b[01;34m.\u001b[0m/\n",
            "drwxr-xr-x 3 root root 4.0K Nov 14 11:55 \u001b[01;34m..\u001b[0m/\n",
            "-rw-r--r-- 1 root root  63K Nov 14 11:53 all_tokens.n4064.witkacy_szewcy.p\n",
            "-rw-r--r-- 1 root root  80K Nov 14 12:02 all_tokens.n5059.pan_tadeusz.p\n",
            "-rw-r--r-- 1 root root 5.2K Nov 14 12:01 e_syl.txt\n",
            "-rw-r--r-- 1 root root  37M Nov 14 12:02 pan_tadeusz.h500.l3.e1.gpu.torch\n",
            "-rw-r--r-- 1 root root  37M Nov 14 11:53 pan_tadeusz.h500.l3.e20.gpu.torch\n",
            "-rw-r--r-- 1 root root   35 Nov 14 11:59 tmp_text_caps1.txt\n",
            "-rw-r--r-- 1 root root   56 Nov 14 11:59 tmp_text_syl1.txt\n",
            "-rw-r--r-- 1 root root  33M Nov 14 11:53 witkacy_szewcy.h500.l3.e11.gpu.torch\n"
          ],
          "name": "stdout"
        }
      ]
    },
    {
      "cell_type": "code",
      "metadata": {
        "id": "67lBaaQ1gg3B",
        "outputId": "8c694a4c-418e-49d3-ff3d-74edbbe41bd3",
        "colab": {
          "base_uri": "https://localhost:8080/"
        }
      },
      "source": [
        "n_epochs=20\n",
        "ALLTOKS, MODEL = ['all_tokens', 'model']\n",
        "fn_pan_tadeusz = {ALLTOKS: f'all_tokens.n{n_tokens}.pan_tadeusz.p', \n",
        "                  MODEL: f'pan_tadeusz.h{hidden_size}.l{n_layers}.e{n_epochs}.gpu.torch'}\n",
        "fn_dict = fn_pan_tadeusz; fn_dict"
      ],
      "execution_count": null,
      "outputs": [
        {
          "output_type": "execute_result",
          "data": {
            "text/plain": [
              "{'all_tokens': 'all_tokens.n5059.pan_tadeusz.p',\n",
              " 'model': 'pan_tadeusz.h500.l3.e1.gpu.torch'}"
            ]
          },
          "metadata": {
            "tags": []
          },
          "execution_count": 68
        }
      ]
    },
    {
      "cell_type": "code",
      "metadata": {
        "id": "-D9_ONXNMHPK",
        "outputId": "06d40d90-00b4-4121-d8f3-dd6d6b2838b2",
        "colab": {
          "base_uri": "https://localhost:8080/"
        }
      },
      "source": [
        "if True:\n",
        "  all_tokens_path = tmp_path / fn_dict[ALLTOKS]\n",
        "  print(f'all_tokens_path = {all_tokens_path}')\n",
        "  all_tokens = pickle.load(open(all_tokens_path, 'rb'))\n",
        "  n_characters = len(all_tokens)\n",
        "  tok2idx_dict = {tok: idx for (idx, tok) in enumerate(all_tokens)}\n",
        "\n",
        "  model_path = tmp_path / fn_dict[MODEL]\n",
        "  decoder = torch.load(model_path)\n",
        "  decoder.gru.flatten_parameters()\n",
        "  print(f'model_path = {model_path}')\n",
        "  print(decoder.state_dict)"
      ],
      "execution_count": null,
      "outputs": [
        {
          "output_type": "stream",
          "text": [
            "all_tokens_path = data/rnn_generator/tmp/all_tokens.n5059.pan_tadeusz.p\n",
            "model_path = data/rnn_generator/tmp/pan_tadeusz.h500.l3.e1.gpu.torch\n",
            "<bound method Module.state_dict of RNN(\n",
            "  (encoder): Embedding(5059, 500)\n",
            "  (gru): GRU(500, 500, num_layers=3)\n",
            "  (decoder): Linear(in_features=500, out_features=5059, bias=True)\n",
            ")>\n"
          ],
          "name": "stdout"
        }
      ]
    },
    {
      "cell_type": "markdown",
      "metadata": {
        "id": "2fEFWi-FXM5p"
      },
      "source": [
        "## Ewaluacja w różnych \"temperaturach\"\n",
        "\n",
        "W powyższej funkcji `evaluate`, za każdym razem, gdy dokonywana jest prognoza, wyjścia są dzielone przez przekazany argument \"temperature\". Użycie większej liczby sprawia, że wszystkie akcje są bardziej jednakowo prawdopodobne, a tym samym dają nam \"bardziej losowe\" wyniki. Użycie mniejszej wartości (mniejszej niż 1) sprawia, że wysokie prawdopodobieństwa przyczyniają się bardziej. Gdy ustawiamy temperaturę na zero, wybieramy tylko najbardziej prawdopodobne wyjścia.\n",
        "\n",
        "Możemy zobaczyć te efekty poprzez dostosowanie argumentu `temperature`.\n"
      ]
    },
    {
      "cell_type": "code",
      "metadata": {
        "id": "zbRXU5j1LR3_"
      },
      "source": [
        "def print_eval(e_syl):\n",
        "  display(HTML(format_html(fix_punctuation(decode_tokens(syl2str(e_syl, delim=''))))))"
      ],
      "execution_count": null,
      "outputs": []
    },
    {
      "cell_type": "code",
      "metadata": {
        "id": "E4MTNidlS6j2"
      },
      "source": [
        "prime_tok = str2syl2tok('Litwo! Ojczyzno moja!')"
      ],
      "execution_count": null,
      "outputs": []
    },
    {
      "cell_type": "code",
      "metadata": {
        "id": "gBm5ibSnXM5p",
        "outputId": "ae89136f-eb22-4685-c820-a95ddfc68689",
        "colab": {
          "base_uri": "https://localhost:8080/",
          "height": 255
        }
      },
      "source": [
        "print_eval(evaluate(prime_tok, 200, temperature=0.8))"
      ],
      "execution_count": null,
      "outputs": [
        {
          "output_type": "display_data",
          "data": {
            "text/html": [
              "Litwo! Ojczyzno moja! \n",
              "<br/>Słosto <font color=\"red\">--</font>ra A Mnie <font color=\"red\">--</font>cu, przesi! Niego po dach? \n",
              "<br/>Caraz w czała; Końpe<font color=\"red\">++</font>, uwtrzył Znokoży<font color=\"red\">++</font>. \n",
              "<br/>Przeców słu<font color=\"red\">++</font> i \n",
              "<br/>Racha, ta<font color=\"red\">++</font> ręwaciw<font color=\"red\">++</font> w ciłota. \n",
              "<br/>Tych Z I na<font color=\"red\">++</font> pene rokoli i tryumcania, \n",
              "<br/>Aż Słońmele<font color=\"red\">++</font>, to jest Tesza Zmieni \n",
              "<br/>Wiczana rozdział; nim wrógun<font color=\"red\">++</font> sła<font color=\"red\">++</font> i jest miena: \n",
              "<br/>Gorna gocy, duliprzód, téj jak na czenie: \n",
              "<br/>Drulowameniem nie bostrza<font color=\"red\">++</font> tę, \n",
              "<br/>To gogo bo Obło wy<font color=\"red\">++</font> mak, skrzydmi nie<font color=\"red\">++</font> mor<font color=\"red\">++</font>! \n",
              "<br/>I że Posmi w i Te<font color=\"red\">++</font> I na in<font color=\"red\">++</font> droka \n",
              "<br/>Ale Salilisu Za drostwa, z <font color=\"red\">--</font>Deusz <font color=\"red\">--</font>cy, \n",
              "<br/>Woj<font color=\"red\">++</font> W"
            ],
            "text/plain": [
              "<IPython.core.display.HTML object>"
            ]
          },
          "metadata": {
            "tags": []
          }
        }
      ]
    },
    {
      "cell_type": "markdown",
      "metadata": {
        "id": "DnStt-FzXM5r"
      },
      "source": [
        "Niższe temperatury daja mniejszą różnorodność, wybierając tylko bardziej prawdopodobne wyjścia:"
      ]
    },
    {
      "cell_type": "code",
      "metadata": {
        "id": "D3mkq_sCXM5r",
        "outputId": "1e0425fd-1816-4a2f-f646-0752f5be87da",
        "colab": {
          "base_uri": "https://localhost:8080/",
          "height": 187
        }
      },
      "source": [
        "print_eval(evaluate(prime_tok, 200, temperature=0.2))"
      ],
      "execution_count": null,
      "outputs": [
        {
          "output_type": "display_data",
          "data": {
            "text/html": [
              "Litwo! Ojczyzno moja! \n",
              "<br/>I Oliła, polena, w To Telili, \n",
              "<br/>I Pan I I I Polina, Pan I Telina, \n",
              "<br/>I I Teligo w To Ta<font color=\"red\">++</font> Hra<font color=\"red\">++</font> W Teligo, \n",
              "<br/>I Ta<font color=\"red\">++</font> Hra<font color=\"red\">++</font> I Ta<font color=\"red\">++</font> Teliła, \n",
              "<br/>I Teligo, Pan I Ta<font color=\"red\">++</font> Hralimonie, \n",
              "<br/>I Ta<font color=\"red\">++</font> Teliła, w Teliła, i I I Hralina \n",
              "<br/>I Wyraz, i Olina, i I Ta<font color=\"red\">++</font> Hralina \n",
              "<br/>I I Teliła Nalina, i Pan I Pan I Hraty, \n",
              "<br/>I Te<font color=\"red\">++</font> Polino, i W Ta<font color=\"red\">++</font> Ta<font color=\"red\">++</font> Telili,"
            ],
            "text/plain": [
              "<IPython.core.display.HTML object>"
            ]
          },
          "metadata": {
            "tags": []
          }
        }
      ]
    },
    {
      "cell_type": "markdown",
      "metadata": {
        "id": "l508QP1LXM5t"
      },
      "source": [
        "Wyższe temperatury są bardziej różnorodne, wybierając mniej prawdopodobne wyjścia:"
      ]
    },
    {
      "cell_type": "code",
      "metadata": {
        "id": "SxhfgI-PXM5u",
        "outputId": "1fcd36de-de2c-4af4-9911-9399aac80cd0",
        "colab": {
          "base_uri": "https://localhost:8080/",
          "height": 238
        }
      },
      "source": [
        "print_eval(evaluate(prime_tok, 200, temperature=1.4))"
      ],
      "execution_count": null,
      "outputs": [
        {
          "output_type": "display_data",
          "data": {
            "text/html": [
              "Litwo! Ojczyzno moja! \n",
              "<br/><font color=\"red\">--</font>Deucza częre z <font color=\"red\">--</font>sze <font color=\"red\">--</font>ną <font color=\"red\">--</font>dzy <font color=\"red\">--</font>wny <font color=\"red\">--</font>ściem błynia <font color=\"red\">--</font>cussłuzeysbach <font color=\"red\">--</font>dzi \n",
              "<br/>Nas stem<font color=\"red\">++</font> klas<font color=\"red\">++</font> wielku<font color=\"red\">++</font> sietewstwa za<font color=\"red\">++</font> chcąc sworase<font color=\"red\">++</font>. \n",
              "<br/>wie<font color=\"red\">++</font> los syt ziemba<font color=\"red\">++</font> ślad <font color=\"red\">--</font>leostobyt<font color=\"red\">++</font> ecy. os brzebodzi: się w kwapadł; końlali. \n",
              "<br/>Ole za <font color=\"red\">--</font>pomwić zwitarum <font color=\"red\">--</font>zy już tj. \n",
              "<br/><font color=\"red\">--</font>Pitéj szarę<font color=\"red\">++</font>, <font color=\"red\">--</font>bum rowinych za pod szotwo zdołem <font color=\"red\">--</font>skim <font color=\"red\">--</font>ru \n",
              "<br/>Wiebę nie <font color=\"red\">--</font>szem <font color=\"red\">--</font>libo zdace, złołem tre<font color=\"red\">++</font> Jali. \n",
              "<br/>Posią góda się <font color=\"red\">--</font>warstrzęś<font color=\"red\">++</font> z; niżwość <font color=\"red\">--</font>chcąc <font color=\"red\">--</font>byżył <font color=\"red\">--</font>deudnie. \n",
              "<br/>w to lub <font color=\"red\">--</font>nierzkie sto <font color=\"red\">--</font>jrzał roznące dach: siwéj nie <font color=\"red\">--</font>Wan<font color=\"red\">++</font> niéj <font color=\"red\">--</font>ńczo<font color=\"red\">++</font> końsze i \n",
              "<br/>A <font color=\"red\">--</font>kiem tych strzelb wygaki_ <font color=\"red\">--</font>tyc<font color=\"red\">++</font> do sterniem ła<font color=\"red\">++</font> gdzie, \n",
              "<br/>Rocię groźkę os<font color=\"red\">++</font> barniach już wawdząc <font color=\"red\">--</font>ka ku <font color=\"red\">--</font>żył że swa<font color=\"red\">++</font>. \n",
              "<br/>\n",
              "<br/>Sień zwłasach <font color=\"red\">--</font>ctwem <font color=\"red\">--</font>sta<font color=\"red\">++</font> wiodł <font color=\"red\">--</font>szę zieszło le<font color=\"red\">++</font>"
            ],
            "text/plain": [
              "<IPython.core.display.HTML object>"
            ]
          },
          "metadata": {
            "tags": []
          }
        }
      ]
    },
    {
      "cell_type": "markdown",
      "metadata": {
        "id": "-UQoZYk2XM5v"
      },
      "source": [
        "## Ćwiczenia\n",
        "\n",
        "* Trenuj z własnym zestawem danych, np.\n",
        "     * Tekst od innego autora\n",
        "     * Posty na blogu\n",
        "     * Kody źródłowe\n",
        "* Zwiększ liczbę warstw i rozmiar sieci, aby uzyskać lepsze wyniki"
      ]
    },
    {
      "cell_type": "markdown",
      "metadata": {
        "id": "pFHHvkI6XM5w"
      },
      "source": [
        "**Następnie**: [Generating Names with a Conditional Character-Level RNN](https://github.com/spro/practical-pytorch/blob/master/conditional-char-rnn/conditional-char-rnn.ipynb)"
      ]
    },
    {
      "cell_type": "markdown",
      "metadata": {
        "id": "2tJDT2lCceZL"
      },
      "source": [
        "## (debug) Monitorowanie maszyny wirtualnej"
      ]
    },
    {
      "cell_type": "code",
      "metadata": {
        "id": "bKdCiolHcg4e"
      },
      "source": [
        "def print_memsize():\n",
        "  process = psutil.Process(os.getpid())\n",
        "  print(f'{process.memory_info().rss / 1024**3:.5} GB')"
      ],
      "execution_count": null,
      "outputs": []
    },
    {
      "cell_type": "code",
      "metadata": {
        "id": "diBUUyOociRy",
        "outputId": "00aa5912-9fdb-49a2-dffd-75ec70d71c0b",
        "colab": {
          "base_uri": "https://localhost:8080/"
        }
      },
      "source": [
        "print_memsize()"
      ],
      "execution_count": null,
      "outputs": [
        {
          "output_type": "stream",
          "text": [
            "2.751 GB\n"
          ],
          "name": "stdout"
        }
      ]
    },
    {
      "cell_type": "code",
      "metadata": {
        "id": "TuHoo0ARtjz_",
        "outputId": "15704364-052c-4690-fdea-d2cb3c35408d",
        "colab": {
          "base_uri": "https://localhost:8080/"
        }
      },
      "source": [
        "!uptime"
      ],
      "execution_count": null,
      "outputs": [
        {
          "output_type": "stream",
          "text": [
            " 12:12:31 up 37 min,  0 users,  load average: 0.07, 0.09, 0.17\n"
          ],
          "name": "stdout"
        }
      ]
    },
    {
      "cell_type": "code",
      "metadata": {
        "id": "f-NsNCAaq89c"
      },
      "source": [
        ""
      ],
      "execution_count": null,
      "outputs": []
    }
  ]
}